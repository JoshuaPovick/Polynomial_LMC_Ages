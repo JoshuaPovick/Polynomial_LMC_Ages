{
 "cells": [
  {
   "cell_type": "code",
   "execution_count": 1,
   "metadata": {},
   "outputs": [],
   "source": [
    "##################################\n",
    "### Import the usual libraries ###\n",
    "##################################\n",
    "\n",
    "### Numpy\n",
    "import numpy as np\n",
    "\n",
    "### Astropy\n",
    "import astropy\n",
    "\n",
    "#Astropy FITS/Table handling\n",
    "from astropy.io import fits, ascii\n",
    "from astropy.table import Table, Column\n",
    "\n",
    "#astropy coorindates/units\n",
    "from astropy.coordinates import SkyCoord\n",
    "import astropy.constants as const\n",
    "import astropy.units as u\n",
    "\n",
    "### Pandas\n",
    "import pandas as pd\n",
    "\n",
    "### fitting\n",
    "# import statsmodels.api as sm\n",
    "\n",
    "### PCA\n",
    "# from sklearn.decomposition import PCA, KernelPCA\n",
    "\n",
    "### Model generation\n",
    "import itertools as it\n",
    "\n",
    "### Matplotlib\n",
    "import matplotlib\n",
    "import matplotlib.pyplot as plt\n",
    "%matplotlib inline\n",
    "matplotlib.rcParams.update({'font.size': 18}) #make plots more readable\n",
    "\n",
    "# ### Yumi's RA/DEC ---> Magellanic Stream Coorindates\n",
    "import MagellanicStream as ms\n",
    "\n",
    "# ### Functions used in this code\n",
    "import age_functions as afunc\n",
    "\n",
    "### Stuff Writtten by A Really Cool Professor\n",
    "# import dlnpyutils as dlpu\n",
    "\n",
    "### Other\n",
    "import warnings\n",
    "warnings.filterwarnings('ignore')\n",
    "\n",
    "from tqdm import tqdm_notebook\n",
    "\n",
    "### Age of Universe\n",
    "H0 = 74.03*(u.km/u.s)/u.Mpc\n",
    "hertz = H0.to(u.km/u.s/u.pc).to(u.km/u.s/u.km)\n",
    "tage = (1/hertz).to(u.yr)\n",
    "ageU = tage.value"
   ]
  },
  {
   "cell_type": "code",
   "execution_count": 48,
   "metadata": {},
   "outputs": [],
   "source": [
    "###################\n",
    "### Import Data ###\n",
    "###################\n",
    "\n",
    "# parsec\n",
    "''' Ages used 8 to 10.1 steps 0.15'''\n",
    "# ''' Metallicity used -2.6 to 0.1 steps 0.099'''\n",
    "\n",
    "# parsecall = ascii.read('/Users/joshuapovick/Desktop/Research/parsec/parsec3_3.dat', \\\n",
    "#                     format='basic', delimiter='\\s')\n",
    "parsec = fits.getdata('/Users/joshuapovick/Desktop/Research/parsec/parsec_massive.fits.gz')\n",
    "rgb = np.where(parsec['label']==3)\n",
    "parsec = parsec[rgb]\n",
    "\n",
    "\n",
    "# lmc\n",
    "lmc = fits.getdata('/Users/joshuapovick/Desktop/Research/fits/lmc_rgbmembers.r13-l33-58672.fits.gz')\n",
    "cln = np.where((lmc['FE_H']>-9999.0)&(lmc['AK_TARG']>-100.0)&(lmc['LOGG']>=0.0)&(lmc['M_H_ERR']>-100.0)&\n",
    "               (lmc['C_FE']>-100.0)&(lmc['N_FE']>-100.0))\n",
    "lmc = lmc[cln]\n",
    "\n",
    "# Diane Feuillet\n",
    "pdfout = fits.getdata('/Users/joshuapovick/Desktop/Research/fits/LMC_DR16_all_PDF.fits.gz', 1)\n",
    "_, r13_ind, pdfout_ind = np.intersect1d(lmc['APOGEE_ID'],pdfout['OBJ'],return_indices=True)"
   ]
  },
  {
   "cell_type": "code",
   "execution_count": 39,
   "metadata": {},
   "outputs": [],
   "source": [
    "###############################\n",
    "### Some Calcuations Needed ###\n",
    "###############################\n",
    "\n",
    "### Convert RA DEC to MS L B\n",
    "c_icrs = SkyCoord(ra=lmc['RA']*u.degree, dec=lmc['DEC']*u.degree)\n",
    "c_ms = c_icrs.transform_to(ms.MagellanicStream)\n",
    "ms_lg,ms_bg = c_ms.MSLongitude.degree, c_ms.MSLatitude.degree\n",
    "\n",
    "for i in range(len(ms_lg)):\n",
    "    if ms_lg[i]-360<-180:\n",
    "        ms_lg[i] += 360.0\n",
    "\n",
    "### Get Solar Fractions\n",
    "abd = {'C':8.39,'N':7.78,'O':8.66,'Mg':7.53,'Ca':6.31,'S':7.14,'Si':7.51,'Fe':7.45}\n",
    "keys = list(abd.keys())\n",
    "\n",
    "sol_2_H = []\n",
    "for i in keys:\n",
    "    sol_2_H.append(abd[i]-12.0)\n",
    "    \n",
    "sol_xm  = 10**np.asarray(sol_2_H)/sum(10**np.asarray(sol_2_H))"
   ]
  },
  {
   "cell_type": "code",
   "execution_count": 3,
   "metadata": {},
   "outputs": [],
   "source": [
    "### Setup \n",
    "# data = np.array([parsec['logTe'],parsec['Ksmag'],parsec['MH'],parsec['logg']]).T\n",
    "\n",
    "# ### Determine Number of factors\n",
    "# pca = PCA(n_components=4).fit(data)#_rescaled)\n",
    "# plt.rcParams[\"figure.figsize\"] = (12,6)\n",
    "\n",
    "# fig, ax = plt.subplots()\n",
    "\n",
    "# y = np.cumsum(pca.explained_variance_ratio_)\n",
    "# xi = np.arange(1, len(pca.explained_variance_ratio_)+1, step=1)\n",
    "\n",
    "# plt.ylim(0.0,1.1)\n",
    "# plt.plot(xi, y, marker='o', linestyle='--', color='b')\n",
    "\n",
    "# plt.xlabel('Number of Components')\n",
    "# plt.xticks(np.arange(0, 5, step=1)) #change from 0-based array index to 1-based human-readable label\n",
    "# plt.ylabel('Cumulative variance (%)')\n",
    "# plt.title('The number of components needed to explain variance')\n",
    "\n",
    "# plt.axhline(y=0.99, color='r', linestyle='-')\n",
    "# plt.text(0.5, 0.85, '99% cut-off threshold', color = 'red', fontsize=16)\n",
    "\n",
    "# ax.grid(axis='x')\n",
    "# plt.show()"
   ]
  },
  {
   "cell_type": "code",
   "execution_count": 95,
   "metadata": {},
   "outputs": [],
   "source": [
    "# create new variables\n",
    "\n",
    "# linear terms\n",
    "x0 = data[:,0]\n",
    "x1 = data[:,1]\n",
    "x2 = data[:,2]\n",
    "x3 = data[:,3]\n",
    "\n",
    "# linear int\n",
    "x01 = np.multiply(x0,x1)\n",
    "x02 = np.multiply(x0,x2)\n",
    "x03 = np.multiply(x0,x3)\n",
    "x12 = np.multiply(x1,x2)\n",
    "x13 = np.multiply(x1,x3)\n",
    "x23 = np.multiply(x2,x3)\n",
    "\n",
    "# squares\n",
    "x0sq = x0**2\n",
    "x1sq = x1**2\n",
    "x2sq = x2**2\n",
    "x3sq = x3**2\n",
    "\n",
    "# cubes\n",
    "x0cu = x0**3\n",
    "x1cu = x1**3\n",
    "x2cu = x2**3\n",
    "x3cu = x3**3"
   ]
  },
  {
   "cell_type": "code",
   "execution_count": 97,
   "metadata": {},
   "outputs": [
    {
     "data": {
      "text/plain": [
       "261156"
      ]
     },
     "execution_count": 97,
     "metadata": {},
     "output_type": "execute_result"
    }
   ],
   "source": [
    "#find all possible models\n",
    "models = []\n",
    "models_str = []\n",
    "\n",
    "all_var_str = ['x0','x1','x2','x3','x01','x02','x03','x12','x13','x23','x0sq','x1sq','x2sq','x3sq','x0cu','x1cu',\n",
    "               'x2cu','x3cu']\n",
    "all_var = [x0,x1,x2,x3,x01,x02,x03,x12,x13,x23,x0sq,x1sq,x2sq,x3sq,x0cu,x1cu,x2cu,x3cu]\n",
    "\n",
    "for i in range(4, len(all_var)+1):\n",
    "    for subset in it.combinations(all_var,i):\n",
    "        models.append(subset)\n",
    "    for subset_str in it.combinations(all_var_str,i):\n",
    "        models_str.append(np.array(subset_str))\n",
    "        \n",
    "models = np.array(models)\n",
    "models_str = np.array(models_str)"
   ]
  },
  {
   "cell_type": "code",
   "execution_count": null,
   "metadata": {},
   "outputs": [],
   "source": []
  },
  {
   "cell_type": "code",
   "execution_count": null,
   "metadata": {},
   "outputs": [],
   "source": [
    "# ### Fit All Models\n",
    "\n",
    "# import statsmodels.api as sm \n",
    "\n",
    "# all_params = []\n",
    "# summaries = []\n",
    "# max_resid = []\n",
    "# mads = []\n",
    "# resids = []\n",
    "# predict = []\n",
    "# ll = []\n",
    "# for i in tqdm_notebook(range(len(models)),desc='Done?'):\n",
    "#     pmodl = np.array(models[i]).T\n",
    "#     pmodl = sm.add_constant(pmodl)\n",
    "#     model = sm.OLS(parsec['logAge'],pmodl).fit()\n",
    "#     summaries.append(model.summary())\n",
    "#     predictions = model.predict(pmodl)\n",
    "#     predict.append(predictions)\n",
    "#     residual = predictions - parsec['logAge']\n",
    "#     resids.append(residual)\n",
    "#     all_params.append(np.asarray(model.params))\n",
    "#     max_resid.append(np.max(np.absolute(residual)))\n",
    "#     mads.append(afunc.mad(residual))\n",
    "#     ll.append(model.llf)"
   ]
  },
  {
   "cell_type": "code",
   "execution_count": 67,
   "metadata": {},
   "outputs": [
    {
     "data": {
      "text/plain": [
       "(array([3.4681, 3.5066, 3.508 , ..., 3.6211, 3.6267, 3.7239]), array([1.]))"
      ]
     },
     "execution_count": 67,
     "metadata": {},
     "output_type": "execute_result"
    }
   ],
   "source": [
    "# test = models[0]+ np.ones(len(models[0]))\n",
    "# test\n",
    "test = models[0]+(np.ones(len(models[0])),)\n",
    "test"
   ]
  },
  {
   "cell_type": "code",
   "execution_count": 68,
   "metadata": {},
   "outputs": [
    {
     "data": {
      "text/plain": [
       "(array([10.312,  9.595,  9.57 , ..., -5.68 , -5.656, 13.88 ]),)"
      ]
     },
     "execution_count": 68,
     "metadata": {},
     "output_type": "execute_result"
    }
   ],
   "source": [
    "models[]"
   ]
  },
  {
   "cell_type": "code",
   "execution_count": 23,
   "metadata": {},
   "outputs": [
    {
     "name": "stdout",
     "output_type": "stream",
     "text": [
      "['b0', 'b1', 'b2', 'b3', 'b4', 'b5', 'b6', 'b7', 'b8', 'b9', 'b10', 'b11', 'b12', 'b13', 'b14', 'b15', 'b16', 'b17', 'b18']\n"
     ]
    }
   ],
   "source": [
    "p = []\n",
    "for i in range(19):\n",
    "    p.append('b{}'.format(i))\n",
    "print(p)"
   ]
  },
  {
   "cell_type": "code",
   "execution_count": 41,
   "metadata": {},
   "outputs": [],
   "source": [
    "from sko.GA import GA\n",
    "\n",
    "data = np.array([parsec['logTe'],parsec['Ksmag'],parsec['MH'],parsec['logg']]).T\n",
    "\n",
    "def agemodl(b0,b1,b2,b3,b4,b5,b6,b7,b8,b9,b10,b11,b12,b13,b14,b15,b16,b17,b18,x0,x1,x2,x3):\n",
    "    '''\n",
    "    General model for ages upto 3rd order in logTe, Ksmag, MH, logg with simple interactions of linear terms. \n",
    "    \n",
    "    Parameters:\n",
    "    -----\n",
    "        b: array-like object of model parameters with length 19\n",
    "        x: array of independent variables (logTe, Ksmag, [Fe/H], logg)\n",
    "    \n",
    "    Returns:\n",
    "    ----\n",
    "        y: age\n",
    "    '''\n",
    "    y = (b0+\n",
    "         b1*x0+b2*x1+b3*x2+b4*x3+ \n",
    "         b5*np.multiply(x0,x1)+b6*np.multiply(x0,x2)+b7*np.multiply(x0,x3)+\n",
    "         b8*np.multiply(x1,x2)+b9*np.multiply(x1,x3)+\n",
    "         b10*np.multiply(x2,x3)+\n",
    "         b11*np.square(x0)+b12*np.square(x1)+b13*np.square(x2)+b14*np.square(x3)+\n",
    "         b15*np.power(x0,3)+b16*np.power(x1,3)+b17*np.power(x2,3)+b18*np.power(x3,3))\n",
    "    return y\n",
    "    \n",
    "def objective(b):\n",
    "    b0,b1,b2,b3,b4,b5,b6,b7,b8,b9,b10,b11,b12,b13,b14,b15,b16,b17,b18 = b\n",
    "    residuals = np.square(agemodl(b0,b1,b2,b3,b4,b5,b6,b7,b8,b9,b10,b11,b12,b13,b14,b15,b16,b17,b18,data[:,0],data[:,1],data[:,2],data[:,3]) - parsec['logAge']).sum()\n",
    "    return residuals\n",
    "\n",
    "### Magellan\n",
    "# ga = GA(func=objective, n_dim=19, size_pop=20, max_iter=10,lb=[-10] * 19, ub=[2] * 19)\n",
    "\n",
    "# best_params, residuals = ga.run()\n",
    "# print('best_x:', best_params, '\\n', 'best_y:', residuals)"
   ]
  },
  {
   "cell_type": "code",
   "execution_count": null,
   "metadata": {},
   "outputs": [],
   "source": [
    "def model(b,x):\n",
    "    len()"
   ]
  },
  {
   "cell_type": "code",
   "execution_count": 98,
   "metadata": {},
   "outputs": [],
   "source": [
    "def find_ages(x0,x1,x2,x3):\n",
    "#     b = [-7.83650919,-4.69796477,4.10136809,-3.5465118,-0.46985869,-0.2250934,5.04455863,2.60043097,0.94530139,\n",
    "#          2.09096123,-5.59351197,-4.73225472,2.74943617,1.2755837,-2.03544286,1.84732032,0.28125752,0.29453095,\n",
    "#          0.06657135]\n",
    "    \n",
    "    b = [2.45778513,0.52052256,2.4978969,-1.15990986,-0.18349242,0.1225308,0.77691783,0.24161901,0.19341815,\n",
    "         0.27583394,-2.03918298,0.53548347,1.07101683,-3.31065779,-1.73420024,0.05174946,0.10317881,-1.17549923,\n",
    "         0.35648126]\n",
    "    \n",
    "    y = (b[0]+\n",
    "         b[1]*x0+b[2]*x1+b[3]*x2+b[4]*x3+ \n",
    "         b[5]*np.multiply(x0,x1)+b[6]*np.multiply(x0,x2)+b[7]*np.multiply(x0,x3)+\n",
    "         b[8]*np.multiply(x1,x2)+b[9]*np.multiply(x1,x3)+\n",
    "         b[10]*np.multiply(x2,x3)+\n",
    "         b[11]*np.square(x0)+b[12]*np.square(x1)+b[13]*np.square(x2)+b[14]*np.square(x3)+\n",
    "         b[15]*np.power(x0,3)+b[16]*np.power(x1,3)+b[17]*np.power(x2,3)+b[18]*np.power(x3,3))\n",
    "    return y\n"
   ]
  },
  {
   "cell_type": "code",
   "execution_count": 32,
   "metadata": {},
   "outputs": [
    {
     "data": {
      "text/plain": [
       "True"
      ]
     },
     "execution_count": 32,
     "metadata": {},
     "output_type": "execute_result"
    }
   ],
   "source": [
    "a = [9.38631710e+00,4.57009017e-02,-5.98198867e-02,-2.99642242e+00,1.86921027e-02,-4.51165023e-02,1.10829968e-01,\n",
    " -5.93377185e-03,2.51457473e-02,7.98522275e-01,2.26643514e-02,4.00941011e-01]\n",
    "b = [9.38631710e+00,4.57009017e-02,-5.98198867e-02,-2.99642242e+00,1.86921027e-02,-4.51165023e-02,\n",
    "          1.10829968e-01,-5.93377185e-03,2.51457473e-02,7.98522275e-01,2.26643514e-02,4.00941011e-01]\n",
    "\n",
    "a==b"
   ]
  },
  {
   "cell_type": "markdown",
   "metadata": {},
   "source": [
    "<font size='48'>\n",
    "    <b>\n",
    "        CALCULATE AGES\n",
    "    </b>\n",
    "</font>"
   ]
  },
  {
   "cell_type": "code",
   "execution_count": 33,
   "metadata": {},
   "outputs": [],
   "source": [
    "### Uncertainty Functions\n",
    "\n",
    "def add_noise(quant,quant_err,distribution='normal'):\n",
    "    '''\n",
    "    Add noise to data and return new values\n",
    "    \n",
    "    Parameters:\n",
    "    ----------\n",
    "        quant: 1d array-like data to add noise to\n",
    "        quant_err: 1d array-like object of errors for quant\n",
    "        distribution: which distribution to use 'normal', 'poisson', 'uniform'\n",
    "    \n",
    "    return: \n",
    "    ------\n",
    "        1d array-like object of data with added noise\n",
    "    \n",
    "    '''\n",
    "    if distribution == 'normal':\n",
    "        return np.random.normal(quant,quant_err)\n",
    "    if distribution == 'poisson':\n",
    "        return quant + np.random.poisson(quant_err)\n",
    "    if distribution == 'uniform':\n",
    "        return np.random.uniform(-quant_err+quant,quant+quant_err)"
   ]
  },
  {
   "cell_type": "code",
   "execution_count": 99,
   "metadata": {},
   "outputs": [
    {
     "data": {
      "application/vnd.jupyter.widget-view+json": {
       "model_id": "d4c988f83c9446479cc619390c042e65",
       "version_major": 2,
       "version_minor": 0
      },
      "text/plain": [
       "HBox(children=(FloatProgress(value=0.0, description='Done?', max=2588.0, style=ProgressStyle(description_width…"
      ]
     },
     "metadata": {},
     "output_type": "display_data"
    },
    {
     "name": "stdout",
     "output_type": "stream",
     "text": [
      "\n"
     ]
    },
    {
     "data": {
      "application/vnd.jupyter.widget-view+json": {
       "model_id": "127f1c006a6740369b243e94312a3a64",
       "version_major": 2,
       "version_minor": 0
      },
      "text/plain": [
       "HBox(children=(FloatProgress(value=0.0, max=2588.0), HTML(value='')))"
      ]
     },
     "metadata": {},
     "output_type": "display_data"
    },
    {
     "name": "stdout",
     "output_type": "stream",
     "text": [
      "\n"
     ]
    }
   ],
   "source": [
    "age_dist = []\n",
    "\n",
    "for i in tqdm_notebook(range(len(lmc)),desc='Done?'):\n",
    "    # temperature\n",
    "    teff = lmc['TEFF'][i]\n",
    "    teff_err = lmc['TEFF_ERR'][i]\n",
    "    \n",
    "    # photometry \n",
    "    ra = lmc['RA'][i]\n",
    "    dec = lmc['DEC'][i]\n",
    "    ks = lmc['K'][i]\n",
    "    ks_err = lmc['K_ERR'][i]\n",
    "    ak = lmc['AK_TARG'][i]\n",
    "    \n",
    "    # abundances\n",
    "    mh = lmc['M_H'][i]\n",
    "    mh_err = lmc['M_H_ERR'][i]\n",
    "    cfe = lmc['C_FE'][i]\n",
    "    cfe_err = lmc['C_FE_ERR'][i]\n",
    "    nfe = lmc['N_FE'][i]\n",
    "    nfe_err = lmc['N_FE_ERR'][i]\n",
    "    feh = lmc['FE_H'][i]\n",
    "    feh_err = lmc['FE_H_ERR'][i]\n",
    "    \n",
    "    # surface gravity\n",
    "    lgg = lmc['LOGG'][i]\n",
    "    lgg_err = lmc['LOGG_ERR'][i]\n",
    "    \n",
    "    noise_ages = []\n",
    "    new = []\n",
    "    for j in range(750):\n",
    "       \n",
    "        # calculate noisy temperature\n",
    "        teff_new = add_noise(teff,teff_err)\n",
    "        lgteff_new = np.log10(teff_new)\n",
    "    \n",
    "        # Calculate noisy K magnitude\n",
    "        _, _, dist = afunc.LMCdisk_cart(ra,dec)\n",
    "        \n",
    "        ks_new = add_noise(ks,ks_err)\n",
    "            \n",
    "        absK_new = afunc.absmag(ks_new,dist) - ak\n",
    "            \n",
    "        # Calculate noisy Salaris correction\n",
    "        \n",
    "        x_C_new = sol_xm[0]*10**(add_noise(cfe,cfe_err)+\n",
    "                                 add_noise(feh,feh_err)-add_noise(mh,mh_err))\n",
    "        x_N_new = sol_xm[1]*10**(add_noise(nfe,nfe_err)+\n",
    "                                 add_noise(feh,feh_err)-add_noise(mh,mh_err))\n",
    "        \n",
    "        ffac_new = (x_C_new+x_N_new)/sum(sol_xm[0:2])\n",
    "        \n",
    "        mh_new = add_noise(mh,mh_err)\n",
    "        \n",
    "        # Calculate noisy surface gravity\n",
    "        lgg_new = add_noise(lgg,lgg_err)\n",
    "            \n",
    "        # calculate noisy age\n",
    "        new.append(np.array([lgteff_new,absK_new,afunc.sal(mh_new,ffac_new),lgg_new]))\n",
    "        \n",
    "    zs = new\n",
    "\n",
    "    for l in range(len(zs)):\n",
    "        noise_ages.append(find_ages(zs[l][0],zs[l][1],zs[l][2],zs[l][3]))\n",
    "    \n",
    "    age_dist.append(noise_ages)\n",
    "\n",
    "parages = [] \n",
    "devs = []\n",
    "for k in tqdm_notebook(range(len(age_dist))):\n",
    "    devs.append(afunc.mad(age_dist[k]))\n",
    "    parages.append(np.median(age_dist[k]))"
   ]
  },
  {
   "cell_type": "code",
   "execution_count": 46,
   "metadata": {},
   "outputs": [],
   "source": [
    "# print(np.where(parages<=np.log10(0.5*10**9)))\n",
    "# print(np.log10(0.5*10**9))\n",
    "# plt.hist(parages,range=(8,12))"
   ]
  },
  {
   "cell_type": "code",
   "execution_count": 103,
   "metadata": {},
   "outputs": [
    {
     "data": {
      "text/plain": [
       "10.146390652563621"
      ]
     },
     "execution_count": 103,
     "metadata": {},
     "output_type": "execute_result"
    }
   ],
   "source": [
    "np.log10((3.26156/69.8*1000*299792458))"
   ]
  },
  {
   "cell_type": "code",
   "execution_count": 106,
   "metadata": {},
   "outputs": [
    {
     "data": {
      "text/plain": [
       "Text(0, 0.5, 'Bayesian')"
      ]
     },
     "execution_count": 106,
     "metadata": {},
     "output_type": "execute_result"
    },
    {
     "data": {
      "image/png": "[encoded data removed]",
      "text/plain": [
       "<Figure size 864x720 with 2 Axes>"
      ]
     },
     "metadata": {
      "needs_background": "light"
     },
     "output_type": "display_data"
    }
   ],
   "source": [
    "plt.figure(figsize=[12,10])\n",
    "plt.scatter(10**np.asarray(parages)[r13_ind],10**pdfout['P_MEAN'][pdfout_ind],c=lmc['LOGG'][r13_ind],\n",
    "                marker='+',cmap='nipy_spectral')\n",
    "plt.colorbar()\n",
    "plt.xscale('log')\n",
    "plt.yscale('log')\n",
    "plt.plot(10**np.array([7,8,9,10,11,12,13]),10**np.array([7,8,9,10,11,12,13]),c='k')\n",
    "plt.ylim(10**7,10**11)\n",
    "# plt.xlim(10**7,10**13)\n",
    "\n",
    "plt.xlabel(r'Polynomial Interpolation')\n",
    "plt.ylabel(r'Bayesian')"
   ]
  },
  {
   "cell_type": "code",
   "execution_count": 32,
   "metadata": {},
   "outputs": [],
   "source": [
    "# plt.hist(10**pdfout['P_MEAN'][pdfout_ind])"
   ]
  },
  {
   "cell_type": "code",
   "execution_count": null,
   "metadata": {},
   "outputs": [],
   "source": []
  },
  {
   "cell_type": "code",
   "execution_count": 33,
   "metadata": {},
   "outputs": [],
   "source": [
    "# plt.hist(10**np.asarray(parages)[r13_ind])"
   ]
  },
  {
   "cell_type": "code",
   "execution_count": 34,
   "metadata": {},
   "outputs": [],
   "source": [
    "# plt.hist(age_dist[100])"
   ]
  },
  {
   "cell_type": "code",
   "execution_count": 35,
   "metadata": {},
   "outputs": [],
   "source": [
    "cat = Table()\n",
    "col_id = Column(np.asarray(r13['APOGEE_ID']),name='APOGEE_ID')\n",
    "col_age = Column(np.asarray(parages),name='AGE')\n",
    "col_dev = Column(np.asarray(devs),name='AGE_ERR')\n",
    "col_dist = Column(np.asarray(age_dist),name='DIST')\n",
    "\n",
    "cat.add_column(col_id)\n",
    "cat.add_column(col_age)\n",
    "cat.add_column(col_dev)\n",
    "cat.add_column(col_dist)\n",
    "\n",
    "# cat.write('TEST_pca_ols_ages.fits',format='fits')#,overwrite=True)\n",
    "# cat.write('TEST_pca_ols_ll.fits',format='fits',overwrite=True)"
   ]
  },
  {
   "cell_type": "code",
   "execution_count": 36,
   "metadata": {},
   "outputs": [],
   "source": [
    "# ### Find all models\n",
    "\n",
    "# #transform data to new basis\n",
    "# # new_data = PCA(n_components=3).fit(data).transform(data)\n",
    "\n",
    "# #create new variables\n",
    "\n",
    "# # linear terms\n",
    "# x1 = parsec['logTe'] #new_data[:,0]\n",
    "# x2 = parsec['Ksmag'] #new_data[:,1]\n",
    "# x3 = parsec['MH'] #new_data[:,2]\n",
    "# x4 = parsec['logg']\n",
    "\n",
    "# # linear int\n",
    "# x12 = np.multiply(x1,x2)\n",
    "# x13 = np.multiply(x1,x3)\n",
    "# x14 = np.multiply(x1,x4)\n",
    "\n",
    "# x23 = np.multiply(x2,x3)\n",
    "# x24 = np.multiply(x2,x4)\n",
    "\n",
    "# x34 = np.multiply(x3,x4)\n",
    "\n",
    "\n",
    "# # squares\n",
    "# x1sq = x1**2\n",
    "# x2sq = x2**2\n",
    "# x3sq = x3**2\n",
    "# x4sq = x4**2\n",
    "\n",
    "# # cubes\n",
    "# # x1cu = x1**3\n",
    "# # x2cu = x2**3\n",
    "# # x3cu = x3**3\n",
    "\n",
    "\n",
    "# #find all possible models\n",
    "# models = []\n",
    "# models_str = []\n",
    "\n",
    "# all_var_str = ['x1','x2','x3','x4','x12','x13','x23','x24','x34','x1sq','x2sq','x3sq','x4sq']\n",
    "# all_var = [x1,x2,x3,x4,x12,x13,x23,x24,x34,x1sq,x2sq,x3sq,x4sq]\n",
    "\n",
    "# for i in range(1,len(all_var)+1):\n",
    "#     for subset in it.combinations(all_var,i):\n",
    "#         models.append(subset)\n",
    "#     for subset_str in it.combinations(all_var_str,i):\n",
    "#         models_str.append(np.array(subset_str))\n",
    "        \n",
    "# models = np.array(models)\n",
    "# models_str = np.array(models_str)\n",
    "\n",
    "# ### Fit All Models\n",
    "\n",
    "# import statsmodels.api as sm \n",
    "\n",
    "# all_params = []\n",
    "# summaries = []\n",
    "# max_resid = []\n",
    "# mads = []\n",
    "# resids = []\n",
    "# predict = []\n",
    "# ll = []\n",
    "# for i in tqdm_notebook(range(len(models)),desc='Done?'):\n",
    "#     pmodl = np.array(models[i]).T\n",
    "#     pmodl = sm.add_constant(pmodl)\n",
    "#     model = sm.OLS(parsec['logAge'],pmodl).fit()\n",
    "#     summaries.append(model.summary())\n",
    "#     predictions = model.predict(pmodl)\n",
    "#     predict.append(predictions)\n",
    "#     residual = predictions - parsec['logAge']\n",
    "#     resids.append(residual)\n",
    "#     all_params.append(np.asarray(model.params))\n",
    "#     max_resid.append(np.max(np.absolute(residual)))\n",
    "#     mads.append(afunc.mad(residual))\n",
    "#     ll.append(model.llf)"
   ]
  },
  {
   "cell_type": "code",
   "execution_count": 37,
   "metadata": {},
   "outputs": [],
   "source": [
    "# print(summaries[np.asarray(ll).argmax()])\n",
    "# print(all_params[np.asarray(ll).argmax()])\n",
    "# print(models_str[np.asarray(ll).argmax()])\n"
   ]
  },
  {
   "cell_type": "code",
   "execution_count": 38,
   "metadata": {},
   "outputs": [],
   "source": [
    "# print(summaries[np.asarray(mads).argmin()])\n",
    "# print(all_params[np.asarray(mads).argmin()])\n",
    "# print(models_str[np.asarray(mads).argmin()])"
   ]
  },
  {
   "cell_type": "code",
   "execution_count": 39,
   "metadata": {},
   "outputs": [],
   "source": [
    "# def find_ages(z1,z2,z3,z4):\n",
    "# #     p = [9.77943559e+02,-5.25226935e+02,1.24426878e+01,-1.71063906e+01,-3.33360237e+00,4.80431454e+00,\n",
    "# #          -6.62127176e-02,3.89523313e-01,-8.75802774e-02,7.16174805e+01,-3.29702782e-02,1.69804627e-01,\n",
    "# #          -5.39563301e-01]\n",
    "# #     ages = (p[0]+p[1]*z1+p[2]*z2+p[3]*z3+p[4]*np.multiply(z1,z2)+p[5]*np.multiply(z1,z3)+p[6]*np.multiply(z2,z3)+\n",
    "# #             p[7]*np.multiply(z2,z4)+p[8]*np.multiply(z3,z4)+p[9]*(z1**2)+p[10]*(z2**2)+p[11]*(z3**2)+\n",
    "# #             p[12]*(z4**2))\n",
    "\n",
    "# #     p = [9.80851387e+02,-5.24981733e+02,1.26388036e+01,-1.48527724e+01,-3.38508869e+00,4.09636862e+00,\n",
    "# #          -8.83269488e-02,3.70451942e-01,7.13126367e+01,-3.11197530e-02,1.35549807e-01,-5.05326057e-01]\n",
    "# #     ages = (p[0]+p[1]*z1+p[2]*z2+p[3]*z3+p[4]*np.multiply(z1,z2)+p[5]*np.multiply(z1,z3)+p[6]*np.multiply(z2,z3)+\n",
    "# #             p[7]*np.multiply(z2,z4)+p[8]*(z1**2)+p[9]*(z2**2)+p[10]*(z3**2)+p[11]*(z4**2))\n",
    "\n",
    "#     p = [1.62773106e+02,-7.74432139e+01,5.79432496e+00,-8.21554113e-01,-6.31502225e+00,-8.53547492e-01,\n",
    "#          3.03422107e-01,-1.21805077e-02,-4.28300766e-01,-1.54961212e-03,1.08410088e+01,1.01740575e-01,\n",
    "#          7.55430356e-02,4.96225871e-01]\n",
    "#     ages = (p[0]+p[1]*z1+p[2]*z2+p[3]*z3+p[4]*z4+p[5]*np.multiply(z1,z2)+p[6]*np.multiply(z1,z3)+\n",
    "#             p[7]*np.multiply(z2,z3)+p[8]*np.multiply(z2,z4)+p[9]*np.multiply(z3,z4)+p[10]*(z1**2)+p[11]*(z2**2)+\n",
    "#             p[12]*(z3**3)+p[13]*(z4**2))\n",
    "    \n",
    "# #     p = [1.17993328e+02,-5.31336187e+01,5.45824048e+00,2.99452735e-01,-6.47520602e+00,-7.47386878e-01,\n",
    "# #          -8.83982229e-03,-4.45546306e-01,7.56108649e+00,1.04148096e-01,7.17546427e-02,5.20605161e-01]\n",
    "# #     ages = (p[0]+p[1]*z1+p[2]*z2+p[3]*z3+p[4]*z4+p[5]*np.multiply(z1,z2)+p[6]*np.multiply(z1,z3)+\n",
    "# #             p[7]*np.multiply(z2,z3)+p[8]*np.multiply(z2,z4)+p[8]*(z1**2)+p[9]*(z2**2)+p[10]*(z3**2)+p[11]*(z4**2))\n",
    "#     return ages"
   ]
  },
  {
   "cell_type": "code",
   "execution_count": 40,
   "metadata": {},
   "outputs": [],
   "source": [
    "# len(all_params[np.asarray(ll).argmax()])\n",
    "# len(models_str[np.asarray(ll).argmax()])"
   ]
  },
  {
   "cell_type": "code",
   "execution_count": 41,
   "metadata": {},
   "outputs": [],
   "source": [
    "# age_dist = []\n",
    "\n",
    "# pca_transform = PCA(n_components=3).fit(data)\n",
    "\n",
    "# for i in tqdm_notebook(range(len(r13)),desc='Done?'):\n",
    "#     # temperature\n",
    "#     teff = r13['TEFF'][i]\n",
    "#     teff_err = r13['TEFF_ERR'][i]\n",
    "    \n",
    "#     # photometry \n",
    "#     ra = r13['RA'][i]\n",
    "#     dec = r13['DEC'][i]\n",
    "#     ks = r13['K'][i]\n",
    "#     ks_err = r13['K_ERR'][i]\n",
    "#     ak = r13['AK_TARG'][i]\n",
    "    \n",
    "#     # abundances\n",
    "#     mh = r13['M_H'][i]\n",
    "#     mh_err = r13['M_H_ERR'][i]\n",
    "#     cfe = r13['C_FE'][i]\n",
    "#     cfe_err = r13['C_FE_ERR'][i]\n",
    "#     nfe = r13['N_FE'][i]\n",
    "#     nfe_err = r13['N_FE_ERR'][i]\n",
    "#     feh = r13['FE_H'][i]\n",
    "#     feh_err = r13['FE_H_ERR'][i]\n",
    "    \n",
    "#     # surface gravity\n",
    "#     lgg = r13['LOGG'][i]\n",
    "#     lgg_err = r13['LOGG_ERR'][i]\n",
    "    \n",
    "#     noise_ages = []\n",
    "#     new = []\n",
    "#     for j in range(100):\n",
    "       \n",
    "#         # calculate noisy temperature\n",
    "#         teff_new = add_noise(teff,teff_err) \n",
    "#         lgteff_new = np.log10(teff_new)\n",
    "    \n",
    "#         # Calculate noisy K magnitude\n",
    "#         _, _, dist = afunc.LMCdisk_cart(ra,dec)\n",
    "        \n",
    "#         ks_new = add_noise(ks,ks_err)\n",
    "            \n",
    "#         absK_new = afunc.absmag(ks_new,dist) - ak\n",
    "            \n",
    "#         # Calculate noisy Salaris correction\n",
    "        \n",
    "#         x_C_new = sol_xm[0]*10**(add_noise(cfe,cfe_err)+\n",
    "#                                  add_noise(feh,feh_err)-add_noise(mh,mh_err))\n",
    "#         x_N_new = sol_xm[1]*10**(add_noise(nfe,nfe_err)+\n",
    "#                                  add_noise(feh,feh_err)-add_noise(mh,mh_err))\n",
    "        \n",
    "#         ffac_new = (x_C_new+x_N_new)/sum(sol_xm[0:2])\n",
    "        \n",
    "#         mh_new = add_noise(mh,mh_err)\n",
    "        \n",
    "#         # Calculate noisy surface gravity\n",
    "#         lgg_new = add_noise(lgg,lgg_err)\n",
    "            \n",
    "#         # calculate noisy age\n",
    "# #         new.append(np.array([lgteff_new,absK_new,afunc.sal(mh_new,ffac_new),lgg_new]))\n",
    "        \n",
    "# #     zs = pca_transform.transform(np.asarray(np.squeeze(new)))\n",
    "\n",
    "# #     for l in range(len(zs)):\n",
    "#         noise_ages.append(find_ages(lgteff_new,absK_new,afunc.sal(mh_new,ffac_new),lgg_new))\n",
    "    \n",
    "#     age_dist.append(noise_ages)\n",
    "\n",
    "# parages = [] \n",
    "# devs = []\n",
    "# for k in tqdm_notebook(range(len(age_dist))):\n",
    "#     devs.append(afunc.mad(age_dist[k]))\n",
    "#     parages.append(np.median(age_dist[k]))"
   ]
  },
  {
   "cell_type": "code",
   "execution_count": 42,
   "metadata": {},
   "outputs": [],
   "source": [
    "# plt.hist(parages)"
   ]
  },
  {
   "cell_type": "code",
   "execution_count": 43,
   "metadata": {},
   "outputs": [],
   "source": [
    "# plt.figure(figsize=[12,10])\n",
    "# plt.scatter(10**np.asarray(parages)[r13_ind],10**pdfout['P_MEAN'][pdfout_ind],c=r13['LOGG'][r13_ind],\n",
    "#                 marker='+',cmap='nipy_spectral')\n",
    "# plt.colorbar()\n",
    "# plt.xscale('log')\n",
    "# plt.yscale('log')\n",
    "# plt.plot(10**np.array([7,8,9,10,11,12,13]),10**np.array([7,8,9,10,11,12,13]),c='k')\n",
    "# plt.ylim(10**7,10**11)\n",
    "# plt.xlim(10**7,10**13)"
   ]
  },
  {
   "cell_type": "code",
   "execution_count": null,
   "metadata": {},
   "outputs": [],
   "source": []
  }
 ],
 "metadata": {
  "kernelspec": {
   "display_name": "Python 3",
   "language": "python",
   "name": "python3"
  },
  "language_info": {
   "codemirror_mode": {
    "name": "ipython",
    "version": 3
   },
   "file_extension": ".py",
   "mimetype": "text/x-python",
   "name": "python",
   "nbconvert_exporter": "python",
   "pygments_lexer": "ipython3",
   "version": "3.8.5"
  }
 },
 "nbformat": 4,
 "nbformat_minor": 4
}
