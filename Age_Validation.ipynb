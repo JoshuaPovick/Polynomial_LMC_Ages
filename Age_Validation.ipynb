{
 "cells": [
  {
   "cell_type": "code",
   "execution_count": 1,
   "metadata": {},
   "outputs": [],
   "source": [
    "#########################\n",
    "### Import Code Stuff ###\n",
    "#########################\n",
    "\n",
    "### Numpy and Scipy\n",
    "import numpy as np\n",
    "from scipy.stats import binned_statistic\n",
    "from scipy.optimize import minimize\n",
    "\n",
    "### Astropy FITS/Table handling\n",
    "from astropy.io import fits, ascii\n",
    "from astropy.table import Table, Column\n",
    "\n",
    "### Matplotlib\n",
    "import matplotlib\n",
    "import matplotlib.pyplot as plt\n",
    "%matplotlib inline\n",
    "import matplotlib.patches as mpatches\n",
    "from matplotlib.ticker import MultipleLocator, FormatStrFormatter, AutoMinorLocator\n",
    "from matplotlib.offsetbox import AnchoredText\n",
    "\n",
    "### MCMC\n",
    "import emcee\n",
    "# import time\n",
    "import mcmc as mc\n",
    "\n",
    "### Geometry\n",
    "import lmcgeometry as lgeo\n",
    "\n",
    "### Other\n",
    "import warnings\n",
    "warnings.filterwarnings('ignore')\n",
    "\n",
    "from tqdm import tqdm_notebook"
   ]
  },
  {
   "cell_type": "code",
   "execution_count": 2,
   "metadata": {},
   "outputs": [],
   "source": [
    "################\n",
    "### LMC Data ###\n",
    "################\n",
    "\n",
    "### Import Data\n",
    "lmc = fits.getdata('/Users/joshpovick/Research/LMC_Gradients_with_Ages/lmc_rgbmembers.r13-l33-58672.fits.gz',1)\n",
    "cln = np.where((lmc['FE_H']>-9999.0)&(lmc['AK_TARG']>-9999.0)&(lmc['LOGG']>0.0)&(lmc['M_H_ERR']>-90.0)&\n",
    "                (lmc['C_FE']>-9999.0)&(lmc['N_FE']>-9999.0))\n",
    "\n",
    "lmc = lmc[cln]\n",
    "\n",
    "elems = ['M_H','C_FE','N_FE','O_FE','NA_FE','MG_FE','AL_FE','SI_FE','P_FE','S_FE','K_FE','CA_FE','TI_FE',\n",
    "         'TIII_FE','V_FE','CR_FE','MN_FE','FE_H','CO_FE','NI_FE','CU_FE','GE_FE','RB_FE','CE_FE','ND_FE','YB_FE']\n",
    "\n",
    "### LMC Geometry\n",
    "x,y,dist = lgeo.LMCdisk_cart(lmc['RA'],lmc['DEC'])\n",
    "radius = lgeo.elliptical_radius(x,y)\n",
    "\n",
    "gcs = fits.getdata('allStar-r13-l33-58932beta_apa_dist_galvel_gc.fits',1)[cln]"
   ]
  },
  {
   "cell_type": "code",
   "execution_count": 3,
   "metadata": {},
   "outputs": [],
   "source": [
    "import pandas as pd\n",
    "supp2 = pd.read_csv('stx544_Supp/Table2.txt',comment='#',\n",
    "                    names=['Cluster','Dist','Dist_Sigma','Av','Av_Sigma','[Fe/H]','Age'],sep='\\s+')\n",
    "supp3 = pd.read_csv('stx544_Supp/Table3.txt',comment='#',\n",
    "                    names=['Name','[Fe/H]','Dist','Distupperr','Distlowerr','Av','Avuperr',\n",
    "                           'Avlowerr','Y','Yuperr','Ylowerr','log(Age)','log(Age)uperr',\n",
    "                           'log(Age)lowerr','Age(Gyr)','Age(Gyr)uperr','Age(Gyr)lowerr',\n",
    "                           'RelativeAge'],sep='\\s+')"
   ]
  },
  {
   "cell_type": "code",
   "execution_count": 4,
   "metadata": {},
   "outputs": [],
   "source": [
    "_, s2_ind, gcs2_ind = np.intersect1d(supp2['Cluster'], gcs['Cluster'], return_indices=True)\n",
    "_, s3_ind, gcs3_ind = np.intersect1d(supp3['Name'], gcs['Cluster'], return_indices=True)"
   ]
  },
  {
   "cell_type": "code",
   "execution_count": 5,
   "metadata": {},
   "outputs": [
    {
     "data": {
      "text/plain": [
       "array([ 7,  9, 10, 11, 15, 19, 26])"
      ]
     },
     "execution_count": 5,
     "metadata": {},
     "output_type": "execute_result"
    }
   ],
   "source": [
    "s3_ind"
   ]
  },
  {
   "cell_type": "code",
   "execution_count": null,
   "metadata": {},
   "outputs": [],
   "source": []
  }
 ],
 "metadata": {
  "kernelspec": {
   "display_name": "Python 3",
   "language": "python",
   "name": "python3"
  },
  "language_info": {
   "codemirror_mode": {
    "name": "ipython",
    "version": 3
   },
   "file_extension": ".py",
   "mimetype": "text/x-python",
   "name": "python",
   "nbconvert_exporter": "python",
   "pygments_lexer": "ipython3",
   "version": "3.7.6"
  }
 },
 "nbformat": 4,
 "nbformat_minor": 4
}
