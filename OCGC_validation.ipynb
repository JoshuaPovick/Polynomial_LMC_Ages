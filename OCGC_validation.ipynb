{
 "cells": [
  {
   "cell_type": "code",
   "execution_count": 39,
   "metadata": {},
   "outputs": [],
   "source": [
    "#########################\n",
    "### Import Code Stuff ###\n",
    "#########################\n",
    "\n",
    "### Numpy and Scipy\n",
    "import numpy as np\n",
    "from scipy.stats import binned_statistic\n",
    "\n",
    "### Pandas\n",
    "import pandas as pd\n",
    "\n",
    "### Astropy FITS/Table handling\n",
    "from astropy.io import fits, ascii\n",
    "from astropy.table import Table, Column, vstack\n",
    "\n",
    "### Matplotlib\n",
    "import matplotlib\n",
    "import matplotlib.pyplot as plt\n",
    "%matplotlib inline\n",
    "\n",
    "### Functions used in this code\n",
    "import age_functions as afunc\n",
    "\n",
    "### Other\n",
    "import warnings\n",
    "warnings.filterwarnings('ignore')\n",
    "\n",
    "### Progress Bar\n",
    "from tqdm import tqdm_notebook\n",
    "\n",
    "### DLN\n",
    "from dlnpyutils import utils as dln\n",
    "\n",
    "ageU = np.log10(13.77*10**9)"
   ]
  },
  {
   "cell_type": "code",
   "execution_count": 60,
   "metadata": {},
   "outputs": [],
   "source": [
    "#find duplicates in data\n",
    "def dups(data):\n",
    "    '''\n",
    "    - data: some 1d array-like object that possibly has duplicate values\n",
    "    Returns dictionary of duplicates and array of indices\n",
    "    '''\n",
    "    list_data = list(data)\n",
    "    keys = []\n",
    "    values = []\n",
    "    not_uniq = list(set([x for x in list_data if list_data.count(x)>1]))\n",
    "#     for i in range(len(not_uniq)):\n",
    "#         keys.append(not_uniq[i])\n",
    "#         values.append(np.where(data==not_uniq[i]))\n",
    "#     idx = dict(zip(keys, values))\n",
    "    return not_uniq#, idx"
   ]
  },
  {
   "cell_type": "code",
   "execution_count": 61,
   "metadata": {},
   "outputs": [
    {
     "data": {
      "text/plain": [
       "['5', '9', '4']"
      ]
     },
     "execution_count": 61,
     "metadata": {},
     "output_type": "execute_result"
    }
   ],
   "source": [
    "dups([\"1\",\"2\",\"3\",\"4\",\"5\",\"6\",\"7\",\"8\",\"9\",\"9\",\"4\",\"5\"])"
   ]
  },
  {
   "cell_type": "markdown",
   "metadata": {},
   "source": [
    "# Import Data"
   ]
  },
  {
   "cell_type": "code",
   "execution_count": 6,
   "metadata": {},
   "outputs": [],
   "source": [
    "### Globular Clusters\n",
    "gcs = fits.getdata('/Users/joshuapovick/Desktop/Research/fits/allStar-r13-l33-58932beta_apa_dist_galvel_gc.fits',1)\n",
    "cln = np.where((gcs['FE_H']>-9999.0)&(gcs['AK_TARG']>-9999.0)&(gcs['LOGG']>0.0)&(gcs['M_H_ERR']>-90.0)&\n",
    "                (gcs['C_FE']>-9999.0)&(gcs['N_FE']>-9999.0))\n",
    "gcs = gcs[cln]"
   ]
  },
  {
   "cell_type": "code",
   "execution_count": 105,
   "metadata": {},
   "outputs": [],
   "source": [
    "### Open Clusters\n",
    "allStar = fits.getdata('/Users/joshuapovick/Desktop/Research/fits/allStar-r13-l33-58932beta.fits.gz',1)\n",
    "ocs = fits.getdata('/Users/joshuapovick/Desktop/Research/fits/occam_member-DR16.fits',1)\n",
    "ocs = ocs[np.where((ocs['PM_PROB']>0.01)&(ocs['RV_PROB']>0.01)&(ocs['FEH_PROB']>0.01))]\n",
    "\n",
    "_, ocs_ind, all_ind = np.intersect1d(ocs['APOGEE_ID'],allStar['APOGEE_ID'],return_indices=True)\n",
    "ocs_allStar = allStar[all_ind]\n",
    "ocs = ocs[ocs_ind]\n",
    "\n",
    "cln = np.where((ocs_allStar['FE_H']>-90.0)&(ocs_allStar['AK_TARG']>-90.0)&(ocs_allStar['LOGG']>0.0)&\n",
    "               (ocs_allStar['M_H_ERR']>-90.0)&(ocs_allStar['C_FE']>-90.0)&(ocs_allStar['N_FE']>-90.0))\n",
    "ocs_allStar = ocs_allStar[cln]\n",
    "ocs = ocs[cln]"
   ]
  },
  {
   "cell_type": "code",
   "execution_count": 115,
   "metadata": {},
   "outputs": [
    {
     "data": {
      "text/plain": [
       "<matplotlib.collections.PathCollection at 0x7fda89deebb0>"
      ]
     },
     "execution_count": 115,
     "metadata": {},
     "output_type": "execute_result"
    },
    {
     "data": {
      "image/png": "[encoded data removed]",
      "text/plain": [
       "<Figure size 432x288 with 1 Axes>"
      ]
     },
     "metadata": {
      "needs_background": "light"
     },
     "output_type": "display_data"
    }
   ],
   "source": [
    "### PARSEC\n",
    "# parsec = fits.getdata('/Users/joshuapovick/Desktop/Research/parsec/parseclinage.fits',0)\n",
    "# rgb = np.where(parsec['label']==3)\n",
    "# parsec = parsec[rgb]\n",
    "\n",
    "parsec = ascii.read('/Users/joshuapovick/Desktop/Research/parsec/parsec3_3.dat',format='basic',delimiter='\\s')\n",
    "# parsec = Table.from_pandas(parsec)\n",
    "# parsec = fits.getdata('/Users/joshuapovick/Desktop/Research/parsec/parsec_massive.fits.gz')\n",
    "rgb = np.where(parsec['label']==3)\n",
    "parsec = parsec[rgb]\n",
    "\n",
    "plt.scatter(parsec['MH'],parsec['logAge'])"
   ]
  },
  {
   "cell_type": "markdown",
   "metadata": {},
   "source": [
    "# Age Setup"
   ]
  },
  {
   "cell_type": "code",
   "execution_count": 116,
   "metadata": {},
   "outputs": [],
   "source": [
    "def add_noise(quant,quant_err,distribution='normal'):\n",
    "    '''\n",
    "    Add noise to data and return new values\n",
    "    \n",
    "    Parameters:\n",
    "    ----------\n",
    "        quant: 1d array-like data to add noise to\n",
    "        quant_err: 1d array-like object of errors for quant\n",
    "        distribution: which distribution to use 'normal', 'poisson', 'uniform'\n",
    "    \n",
    "    return: \n",
    "    ------\n",
    "        1d array-like object of data with added noise\n",
    "    \n",
    "    '''\n",
    "    if distribution == 'normal':\n",
    "        return np.random.normal(quant,quant_err)\n",
    "    if distribution == 'poisson':\n",
    "        return quant + np.random.poisson(quant_err)\n",
    "    if distribution == 'uniform':\n",
    "        return np.random.uniform(-quant_err+quant,quant+quant_err)\n",
    "\n",
    "def age_model(z1,z2,z3):\n",
    "\n",
    "    p = [9.38631710e+00,4.57009017e-02,-5.98198867e-02,-2.99642242e+00,1.86921027e-02,-4.51165023e-02,\n",
    "         1.10829968e-01,-5.93377185e-03,2.51457473e-02,7.98522275e-01,2.26643514e-02,4.00941011e-01]\n",
    "\n",
    "    age = (p[0]+p[1]*z1+p[2]*z2+p[3]*z3+p[4]*np.multiply(z1,z2)+p[5]*np.multiply(z1,z3)+p[6]*np.multiply(z2,z3)+\n",
    "           p[7]*(z1**2)+p[8]*(z2**2)+p[9]*(z3**2)+p[10]*(z2**3)+p[11]*(z3**3))\n",
    "    \n",
    "    return age\n",
    "    \n",
    "### Get Solar Fractions\n",
    "abd = {'C':8.39,'N':7.78,'O':8.66,'Mg':7.53,'Ca':6.31,'S':7.14,'Si':7.51,'Fe':7.45}\n",
    "keys = list(abd.keys())\n",
    "\n",
    "sol_2_H = []\n",
    "for i in keys:\n",
    "    sol_2_H.append(abd[i]-12.0)\n",
    "    \n",
    "sol_xm  = 10**np.asarray(sol_2_H)/sum(10**np.asarray(sol_2_H))"
   ]
  },
  {
   "cell_type": "code",
   "execution_count": 117,
   "metadata": {},
   "outputs": [
    {
     "data": {
      "application/vnd.jupyter.widget-view+json": {
       "model_id": "961d7fc140444dc682d4a9d23ea70d29",
       "version_major": 2,
       "version_minor": 0
      },
      "text/plain": [
       "HBox(children=(FloatProgress(value=0.0, description='Done?', max=642.0, style=ProgressStyle(description_width=…"
      ]
     },
     "metadata": {},
     "output_type": "display_data"
    },
    {
     "name": "stdout",
     "output_type": "stream",
     "text": [
      "\n"
     ]
    },
    {
     "data": {
      "application/vnd.jupyter.widget-view+json": {
       "model_id": "35a38748a40a468bb409c24554a6bbb4",
       "version_major": 2,
       "version_minor": 0
      },
      "text/plain": [
       "HBox(children=(FloatProgress(value=0.0, max=633.0), HTML(value='')))"
      ]
     },
     "metadata": {},
     "output_type": "display_data"
    },
    {
     "name": "stdout",
     "output_type": "stream",
     "text": [
      "\n"
     ]
    }
   ],
   "source": [
    "### PCA\n",
    "from sklearn.decomposition import PCA\n",
    "\n",
    "age_dist = []\n",
    "\n",
    "data = np.array([parsec['logTe'],parsec['Ksmag'],np.log10(parsec['Z']/0.02),parsec['logg']]).T\n",
    "\n",
    "pca_transform = PCA(n_components=3).fit(data)\n",
    "\n",
    "for i in tqdm_notebook(range(len(ocs_allStar)),desc='Done?'):\n",
    "    # temperature\n",
    "    teff = ocs_allStar['TEFF'][i]\n",
    "    teff_err = np.abs(ocs_allStar['TEFF_ERR'][i])\n",
    "    \n",
    "    # photometry \n",
    "    distance = ocs_allStar['GAIA_R_EST'][i]\n",
    "    dist_err = np.abs((ocs_allStar['GAIA_R_HI'][i]-ocs_allStar['GAIA_R_LO'][i])/2.)\n",
    "    ks = ocs_allStar['K'][i]\n",
    "    ks_err = np.abs(ocs_allStar['K_ERR'][i])\n",
    "    ak = ocs_allStar['AK_TARG'][i]\n",
    "    \n",
    "    # abundances\n",
    "    mh = ocs_allStar['M_H'][i]\n",
    "    mh_err = np.abs(ocs_allStar['M_H_ERR'][i])\n",
    "    cfe = ocs_allStar['C_FE'][i]\n",
    "    cfe_err = np.abs(ocs_allStar['C_FE_ERR'][i])\n",
    "    nfe = ocs_allStar['N_FE'][i]\n",
    "    nfe_err = np.abs(ocs_allStar['N_FE_ERR'][i])\n",
    "    feh = ocs_allStar['FE_H'][i]\n",
    "    feh_err = np.abs(ocs_allStar['FE_H_ERR'][i])\n",
    "    \n",
    "    # surface gravity\n",
    "    lgg = ocs_allStar['LOGG'][i]\n",
    "    lgg_err = np.abs(ocs_allStar['LOGG_ERR'][i])\n",
    "    \n",
    "    noise_ages = []\n",
    "    new = []\n",
    "    for j in range(750):\n",
    "       \n",
    "        # calculate noisy temperature\n",
    "        teff_new = add_noise(teff,teff_err)\n",
    "        lgteff_new = np.log10(teff_new)\n",
    "    \n",
    "        # Calculate noisy K magnitude\n",
    "        dist_new = add_noise(distance,dist_err)\n",
    "        \n",
    "        ks_new = add_noise(ks,ks_err)\n",
    "            \n",
    "        absK_new = afunc.absmag(ks_new,dist_new) - ak\n",
    "            \n",
    "        # Calculate noisy Salaris correction\n",
    "        \n",
    "        x_C_new = sol_xm[0]*10**(add_noise(cfe,cfe_err)+\n",
    "                                 add_noise(feh,feh_err)-add_noise(mh,mh_err))\n",
    "        x_N_new = sol_xm[1]*10**(add_noise(nfe,nfe_err)+\n",
    "                                 add_noise(feh,feh_err)-add_noise(mh,mh_err))\n",
    "        \n",
    "        ffac_new = (x_C_new+x_N_new)/sum(sol_xm[0:2])\n",
    "        \n",
    "        mh_new = add_noise(mh,mh_err)\n",
    "        \n",
    "        # Calculate noisy surface gravity\n",
    "        lgg_new = add_noise(lgg,lgg_err)\n",
    "            \n",
    "        # calculate noisy age\n",
    "        new.append(np.array([lgteff_new,absK_new,afunc.sal(mh_new,ffac_new),lgg_new]))\n",
    "    \n",
    "    try:\n",
    "        zs = pca_transform.transform(np.asarray(np.squeeze(new)))\n",
    "\n",
    "    except:\n",
    "        continue\n",
    "        \n",
    "    for l in range(len(zs)):\n",
    "        noise_ages.append(age_model(zs[l][0],zs[l][1],zs[l][2]))\n",
    "    \n",
    "    age_dist.append(noise_ages)\n",
    "\n",
    "parages = [] \n",
    "devs = []\n",
    "for k in tqdm_notebook(range(len(age_dist))):\n",
    "    devs.append(afunc.mad(age_dist[k]))\n",
    "    parages.append(np.median(age_dist[k]))"
   ]
  },
  {
   "cell_type": "code",
   "execution_count": 124,
   "metadata": {},
   "outputs": [
    {
     "data": {
      "text/plain": [
       "Text(0.5, 0, 'LogAge')"
      ]
     },
     "execution_count": 124,
     "metadata": {},
     "output_type": "execute_result"
    },
    {
     "data": {
      "image/png": "[encoded data removed]",
      "text/plain": [
       "<Figure size 720x432 with 1 Axes>"
      ]
     },
     "metadata": {
      "needs_background": "light"
     },
     "output_type": "display_data"
    }
   ],
   "source": [
    "plt.figure(figsize=[10,6])\n",
    "plt.hist(parages)\n",
    "plt.xlabel(r'LogAge')"
   ]
  },
  {
   "cell_type": "code",
   "execution_count": 119,
   "metadata": {
    "scrolled": false
   },
   "outputs": [
    {
     "data": {
      "image/png": "[encoded data removed]",
      "text/plain": [
       "<Figure size 432x288 with 1 Axes>"
      ]
     },
     "metadata": {
      "needs_background": "light"
     },
     "output_type": "display_data"
    },
    {
     "data": {
      "image/png": "[encoded data removed]",
      "text/plain": [
       "<Figure size 432x288 with 1 Axes>"
      ]
     },
     "metadata": {
      "needs_background": "light"
     },
     "output_type": "display_data"
    },
    {
     "data": {
      "image/png": "[encoded data removed]",
      "text/plain": [
       "<Figure size 432x288 with 1 Axes>"
      ]
     },
     "metadata": {
      "needs_background": "light"
     },
     "output_type": "display_data"
    },
    {
     "data": {
      "image/png": "[encoded data removed]",
      "text/plain": [
       "<Figure size 432x288 with 1 Axes>"
      ]
     },
     "metadata": {
      "needs_background": "light"
     },
     "output_type": "display_data"
    }
   ],
   "source": [
    "plt.hist(ocs_allStar['TEFF_ERR'])\n",
    "plt.show()\n",
    "\n",
    "plt.hist(ocs_allStar['K_ERR'])\n",
    "plt.show()\n",
    "\n",
    "plt.hist(ocs_allStar['M_H_ERR'])\n",
    "plt.show()\n",
    "\n",
    "plt.hist(ocs_allStar['TEFF_ERR'])\n",
    "plt.show()"
   ]
  },
  {
   "cell_type": "code",
   "execution_count": 120,
   "metadata": {},
   "outputs": [
    {
     "data": {
      "text/plain": [
       "array([  3.64262412, -19.039492  ,   2.09197779,   1.86025204])"
      ]
     },
     "execution_count": 120,
     "metadata": {},
     "output_type": "execute_result"
    }
   ],
   "source": [
    "new[-1]"
   ]
  },
  {
   "cell_type": "code",
   "execution_count": 121,
   "metadata": {},
   "outputs": [
    {
     "data": {
      "text/plain": [
       "(array([ 18.,  20.,  50.,  93., 139., 177.,  87.,  12.,  22.,  24.]),\n",
       " array([-0.52770156, -0.43101156, -0.33432156, -0.23763154, -0.14094155,\n",
       "        -0.04425155,  0.05243846,  0.14912845,  0.24581847,  0.34250847,\n",
       "         0.43919846], dtype=float32),\n",
       " <a list of 10 Patch objects>)"
      ]
     },
     "execution_count": 121,
     "metadata": {},
     "output_type": "execute_result"
    },
    {
     "data": {
      "image/png": "[encoded data removed]",
      "text/plain": [
       "<Figure size 432x288 with 1 Axes>"
      ]
     },
     "metadata": {
      "needs_background": "light"
     },
     "output_type": "display_data"
    }
   ],
   "source": [
    "plt.hist(ocs_allStar['FE_H'])"
   ]
  },
  {
   "cell_type": "code",
   "execution_count": 122,
   "metadata": {},
   "outputs": [
    {
     "data": {
      "text/plain": [
       "[3.6426241164766577,\n",
       " -19.03949200154273,\n",
       " -0.00965515368258985,\n",
       " 1.8602520436418744]"
      ]
     },
     "execution_count": 122,
     "metadata": {},
     "output_type": "execute_result"
    }
   ],
   "source": [
    "[lgteff_new,absK_new,mh_new,lgg_new]"
   ]
  },
  {
   "cell_type": "code",
   "execution_count": null,
   "metadata": {},
   "outputs": [],
   "source": []
  }
 ],
 "metadata": {
  "kernelspec": {
   "display_name": "Python 3",
   "language": "python",
   "name": "python3"
  },
  "language_info": {
   "codemirror_mode": {
    "name": "ipython",
    "version": 3
   },
   "file_extension": ".py",
   "mimetype": "text/x-python",
   "name": "python",
   "nbconvert_exporter": "python",
   "pygments_lexer": "ipython3",
   "version": "3.8.5"
  }
 },
 "nbformat": 4,
 "nbformat_minor": 4
}
