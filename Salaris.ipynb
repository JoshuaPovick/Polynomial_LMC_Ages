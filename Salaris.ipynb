{
 "cells": [
  {
   "cell_type": "code",
   "execution_count": 1,
   "metadata": {},
   "outputs": [],
   "source": [
    "#########################\n",
    "### Import Code Stuff ###\n",
    "#########################\n",
    "\n",
    "### Numpy and Scipy\n",
    "import numpy as np\n",
    "from scipy.stats import binned_statistic, binned_statistic_2d\n",
    "\n",
    "### Astropy FITS/Table handling\n",
    "from astropy.io import fits, ascii\n",
    "from astropy.table import Table, Column, vstack\n",
    "\n",
    "#astropy coorindates/units\n",
    "from astropy.coordinates import SkyCoord\n",
    "import astropy.constants as const\n",
    "import astropy.units as u\n",
    "\n",
    "### Matplotlib\n",
    "import matplotlib\n",
    "import matplotlib.pyplot as plt\n",
    "%matplotlib inline\n",
    "plt.rcParams.update({'font.size': 22})\n",
    "\n",
    "### Geometry\n",
    "import lmcgeometry as lgeo\n",
    "\n",
    "### Other\n",
    "import warnings\n",
    "warnings.filterwarnings('ignore')\n",
    "\n",
    "from tqdm import tqdm_notebook"
   ]
  },
  {
   "cell_type": "code",
   "execution_count": 2,
   "metadata": {},
   "outputs": [],
   "source": [
    "### Import Data\n",
    "lmc = fits.getdata('/Users/joshuapovick/Desktop/Research/fits/lmc_rgbmembers.r13-l33-58672.fits.gz',1)\n",
    "cln = np.where((lmc['FE_H']>-9999.0)&(lmc['AK_TARG']>-9999.0)&(lmc['LOGG']>0.0)&(lmc['M_H_ERR']>-90.0)&\n",
    "                (lmc['C_FE']>-9999.0)&(lmc['N_FE']>-9999.0))\n",
    "\n",
    "lmc = lmc[cln]\n",
    "\n",
    "elems = ['M_H','C_FE','N_FE','O_FE','NA_FE','MG_FE','AL_FE','SI_FE','P_FE','S_FE','K_FE','CA_FE','TI_FE',\n",
    "         'TIII_FE','V_FE','CR_FE','MN_FE','FE_H','CO_FE','NI_FE','CU_FE','GE_FE','RB_FE','CE_FE','ND_FE','YB_FE']\n",
    "\n",
    "labs = ['[M_H]','[C/Fe]','[N/Fe]','[O/Fe]','[Na/Fe]','[Mg/Fe]','[Al/Fe]','[Si/Fe]','[P/Fe]','[S/Fe]','[K/Fe]',\n",
    "        '[Ca/Fe]','[Ti/Fe]','[TiII/Fe]','[V/Fe]','[Cr/Fe]','[Mn/Fe]','[Fe/H]','[Co/Fe]','[Ni/Fe]','[Cu/Fe]',\n",
    "        '[Ge/Fe]','[Rb/Fe]','[Ce/Fe]','[Nd/Fe]','[Yb/Fe]']\n",
    "\n",
    "### LMC Geometry\n",
    "x,y,dist = lgeo.LMCdisk_cart(lmc['RA'],lmc['DEC'])\n",
    "radius = lgeo.elliptical_radius(x,y)\n",
    "\n",
    "### PARSEC\n",
    "parsectotal = fits.getdata('/Users/joshuapovick/Desktop/Research/parsec/parsec.fits',0)\n",
    "\n",
    "rgb = np.where(parsectotal['label']==3)\n",
    "parsec = parsectotal[rgb]"
   ]
  },
  {
   "cell_type": "code",
   "execution_count": 3,
   "metadata": {},
   "outputs": [],
   "source": [
    "def add_noise(quant,quant_err,distribution='normal'):\n",
    "    '''\n",
    "    Add noise to data and return new values\n",
    "    \n",
    "    Parameters:\n",
    "    ----------\n",
    "        quant: 1d array-like data to add noise to\n",
    "        quant_err: 1d array-like object of errors for quant\n",
    "        distribution: which distribution to use 'normal', 'poisson', 'uniform'\n",
    "    \n",
    "    return: \n",
    "    ------\n",
    "        1d array-like object of data with added noise\n",
    "    \n",
    "    '''\n",
    "    if distribution == 'normal':\n",
    "        return np.random.normal(quant,quant_err)\n",
    "    if distribution == 'poisson':\n",
    "        return quant + np.random.poisson(quant_err)\n",
    "    if distribution == 'uniform':\n",
    "        return np.random.uniform(-quant_err+quant,quant+quant_err)\n",
    "    \n",
    "def mad(x):\n",
    "    '''\n",
    "    Calculate median absolute deviation:\n",
    "        \n",
    "        MAD = median(x_i-median(x))\n",
    "        \n",
    "    Inputs:\n",
    "    ------\n",
    "        x: data to calculate mad of \n",
    "    \n",
    "    Outputs:\n",
    "    -------\n",
    "        mad: median absolute deviation\n",
    "    '''\n",
    "    return np.median(x-np.median(x))\n",
    "\n",
    "def salaris(mh,am):\n",
    "    '''\n",
    "    Calculate the Salaris correction (Salaris et al. 1993)\n",
    "    \n",
    "    Inputs:\n",
    "    ------\n",
    "        mh: [M/H] \n",
    "        am: [ALPHA/H]\n",
    "    \n",
    "    Outputs:\n",
    "    -------\n",
    "        feh adjusted metallicity\n",
    "    '''\n",
    "    feh = mh + np.log10((0.638*(10**(am)))+0.362)\n",
    "    return feh\n",
    "\n",
    "def LMCdisk_cart(ra, dec):\n",
    "    \n",
    "    '''\n",
    "    Calculate the position of stars in the LMC disk plane with \n",
    "    center at the LMC center in cartesian coordinates (x, y).\n",
    "    This also calculates the distance to the individual stars.\n",
    "    \n",
    "    This follows van der Marel and Cioni 2001 \n",
    "    \n",
    "    Input\n",
    "    - ra: right ascension of stars\n",
    "    - dec: declination of stars\n",
    "    \n",
    "    Output\n",
    "    - x_m: x coordinate\n",
    "    - y_m: y coordinate\n",
    "    - dis: distance to LMC star\n",
    "    '''\n",
    "    alph0 = np.radians(82.25) #right ascension of center of LMC\n",
    "    delt0 = np.radians(-69.50) #declination of center of LMC\n",
    "    pa = np.radians(149.23+90.00) #146.37 #position angle of line of nodes\n",
    "    io = np.radians(25.86) #27.81 #inclination of LMC disk\n",
    "    d0 = 49.90 #distance to center of LMC\n",
    "    \n",
    "    #convert to radians\n",
    "    ra = np.radians(ra)\n",
    "    dec = np.radians(dec)\n",
    "    sd = np.sin(delt0)\n",
    "    cd = np.cos(delt0)\n",
    "    \n",
    "    cr = cd*np.cos(dec)*np.cos(ra-alph0)+sd*np.sin(dec)\n",
    "    srcp = -np.cos(dec)*np.sin(ra-alph0)\n",
    "    srsp = cd*np.sin(dec) - sd*np.cos(dec)*np.cos(ra-alph0)\n",
    "    dis = d0*np.cos(io)/(np.cos(io)*cr - np.sin(io)*np.cos(pa)*srsp + np.sin(io)*np.sin(pa)*srcp)\n",
    "    \n",
    "    x_m = dis*srcp\n",
    "    y_m = dis*(np.cos(io)*srsp + np.sin(io)*cr) - d0*np.sin(io)\n",
    "    \n",
    "    return x_m, y_m, dis\n",
    "\n",
    "#calculate absolute mag\n",
    "def absmag(magnitude,distance):\n",
    "    '''\n",
    "    - magnitude: apparent magnitude of star\n",
    "    - distance: distance to star in kpc\n",
    "    Calculate the absolute magnitude of star\n",
    "    '''\n",
    "    absm = []\n",
    "    absm.append(magnitude-5.0*np.log10(distance*1000)+5.0)\n",
    "    absm = np.squeeze(np.array(absm))\n",
    "    return absm"
   ]
  },
  {
   "cell_type": "code",
   "execution_count": 32,
   "metadata": {},
   "outputs": [],
   "source": [
    "### Age of Universe\n",
    "H0 = 74.03*(u.km/u.s)/u.Mpc\n",
    "hertz = H0.to(u.km/u.s/u.pc).to(u.km/u.s/u.km)\n",
    "tage = (1/hertz).to(u.yr)\n",
    "ageU = tage.value\n",
    "\n",
    "### Get Solar Fractions\n",
    "ac = {'C':8.43,'N':7.83,'O':8.69,'Ne':7.93,'Mg':7.60,'Si':7.51,'S':7.12,'Ca':6.34,'Fe':7.50}\n",
    "\n",
    "xh_sol = []\n",
    "for i in list(ac.keys()):\n",
    "    xh_sol.append(ac[i]-12.0)\n",
    "    \n",
    "xm_sol = 10**np.asarray(xh_sol)/sum(10**np.asarray(xh_sol))\n",
    "\n",
    "# ac = [8.39,7.78,8.66,7.53,6.31,7.14,7.51,7.45]\n",
    "\n",
    "# xh_sol = []\n",
    "# for i in range(len(ac)):\n",
    "#     xh_sol.append(ac[i]-12.0)\n",
    "    \n",
    "# xm_sol = 10**np.asarray(xh_sol)/sum(10**np.asarray(xh_sol))"
   ]
  },
  {
   "cell_type": "code",
   "execution_count": 35,
   "metadata": {},
   "outputs": [
    {
     "data": {
      "text/plain": [
       "array([0.2611068 , 0.06558706, 0.47513627, 0.08256922, 0.03862053,\n",
       "       0.03139194, 0.01278846, 0.00212236, 0.03067737])"
      ]
     },
     "execution_count": 35,
     "metadata": {},
     "output_type": "execute_result"
    }
   ],
   "source": [
    "xm_sol"
   ]
  },
  {
   "cell_type": "code",
   "execution_count": 22,
   "metadata": {},
   "outputs": [
    {
     "name": "stdout",
     "output_type": "stream",
     "text": [
      "1.0919003367712972\n"
     ]
    },
    {
     "data": {
      "image/png": "[encoded data removed]",
      "text/plain": [
       "<Figure size 432x288 with 1 Axes>"
      ]
     },
     "metadata": {
      "needs_background": "light"
     },
     "output_type": "display_data"
    }
   ],
   "source": [
    "plt.hist(lmc['ALPHA_M'])\n",
    "\n",
    "print(10**np.median(lmc['ALPHA_M']))"
   ]
  },
  {
   "cell_type": "code",
   "execution_count": 25,
   "metadata": {},
   "outputs": [
    {
     "data": {
      "text/plain": [
       "(array([   4.,   15.,   20.,   53.,  125.,  272.,  655., 1068.,  351.,\n",
       "          25.]),\n",
       " array([-2.1930616 , -1.9853216 , -1.7775816 , -1.5698416 , -1.3621016 ,\n",
       "        -1.1543616 , -0.94662154, -0.7388816 , -0.5311416 , -0.32340154,\n",
       "        -0.11566155], dtype=float32),\n",
       " <BarContainer object of 10 artists>)"
      ]
     },
     "execution_count": 25,
     "metadata": {},
     "output_type": "execute_result"
    },
    {
     "data": {
      "image/png": "[encoded data removed]",
      "text/plain": [
       "<Figure size 432x288 with 1 Axes>"
      ]
     },
     "metadata": {
      "needs_background": "light"
     },
     "output_type": "display_data"
    }
   ],
   "source": [
    "plt.hist(salaris(lmc['M_H'],lmc['ALPHA_M']))\n",
    "plt.hist(lmc['FE_H'])"
   ]
  },
  {
   "cell_type": "code",
   "execution_count": 38,
   "metadata": {},
   "outputs": [
    {
     "data": {
      "text/plain": [
       "632.4555320336758"
      ]
     },
     "execution_count": 38,
     "metadata": {},
     "output_type": "execute_result"
    }
   ],
   "source": [
    "0.02/(10**(7.5-12.0))"
   ]
  },
  {
   "cell_type": "code",
   "execution_count": 42,
   "metadata": {},
   "outputs": [
    {
     "data": {
      "text/plain": [
       "2464"
      ]
     },
     "execution_count": 42,
     "metadata": {},
     "output_type": "execute_result"
    }
   ],
   "source": [
    "len(np.squeeze(np.where(lmc['S_FE']>-100.)))"
   ]
  },
  {
   "cell_type": "code",
   "execution_count": 69,
   "metadata": {},
   "outputs": [
    {
     "name": "stdout",
     "output_type": "stream",
     "text": [
      "Min:  0.670093941347932\n",
      "Number under 1: 1970\n"
     ]
    },
    {
     "data": {
      "image/png": "[encoded data removed]",
      "text/plain": [
       "<Figure size 432x288 with 1 Axes>"
      ]
     },
     "metadata": {
      "needs_background": "light"
     },
     "output_type": "display_data"
    }
   ],
   "source": [
    "X_C = 10**(lmc['C_FE']+lmc['FE_H']+8.43-12.0)\n",
    "X_N = 10**(lmc['N_FE']+lmc['FE_H']+7.83-12.0)\n",
    "X_O = 10**(lmc['O_FE']+lmc['FE_H']+8.69-12.0)\n",
    "X_Ne = 10**(7.93-12.0)*np.ones(len(lmc))\n",
    "X_Mg = 10**(lmc['MG_FE']+lmc['FE_H']+7.60-12.0)\n",
    "X_Si = 10**(lmc['SI_FE']+lmc['FE_H']+7.51-12.0)\n",
    "X_S = 10**(lmc['S_FE']+lmc['FE_H']+7.12-12.0)\n",
    "X_Ca = 10**(lmc['CA_FE']+lmc['FE_H']+6.34-12.0)\n",
    "X_Fe = 10**(lmc['FE_H']+7.50-12.0)\n",
    "\n",
    "sal_cond = np.log10((X_C+X_N+X_O+X_Ne)/(X_Mg+X_Si+X_S+X_Ca+X_Fe))\n",
    "print('Min: ',min(sal_cond))\n",
    "print('Number under 1:',len(np.squeeze(np.where(sal_cond<1.0))))\n",
    "\n",
    "plt.hist(sal_cond)\n",
    "plt.xlabel(r'Salaris Condition [X_HPE/X_LPE]')\n",
    "plt.ylabel(r'Number')\n",
    "plt.show()"
   ]
  },
  {
   "cell_type": "code",
   "execution_count": 53,
   "metadata": {},
   "outputs": [
    {
     "name": "stdout",
     "output_type": "stream",
     "text": [
      "0.670093941347932\n"
     ]
    },
    {
     "data": {
      "text/plain": [
       "(array([  48., 1166.,  978.,  212.,   97.,   44.,   24.,   10.,    5.,\n",
       "           4.]),\n",
       " array([0.67009394, 0.79903566, 0.92797738, 1.0569191 , 1.18586081,\n",
       "        1.31480253, 1.44374425, 1.57268597, 1.70162769, 1.83056941,\n",
       "        1.95951112]),\n",
       " <BarContainer object of 10 artists>)"
      ]
     },
     "execution_count": 53,
     "metadata": {},
     "output_type": "execute_result"
    },
    {
     "data": {
      "image/png": "[encoded data removed]",
      "text/plain": [
       "<Figure size 432x288 with 1 Axes>"
      ]
     },
     "metadata": {
      "needs_background": "light"
     },
     "output_type": "display_data"
    }
   ],
   "source": []
  },
  {
   "cell_type": "code",
   "execution_count": null,
   "metadata": {},
   "outputs": [],
   "source": []
  }
 ],
 "metadata": {
  "kernelspec": {
   "display_name": "Python 3",
   "language": "python",
   "name": "python3"
  },
  "language_info": {
   "codemirror_mode": {
    "name": "ipython",
    "version": 3
   },
   "file_extension": ".py",
   "mimetype": "text/x-python",
   "name": "python",
   "nbconvert_exporter": "python",
   "pygments_lexer": "ipython3",
   "version": "3.8.5"
  }
 },
 "nbformat": 4,
 "nbformat_minor": 4
}
