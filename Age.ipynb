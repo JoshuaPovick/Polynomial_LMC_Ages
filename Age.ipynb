{
 "cells": [
  {
   "cell_type": "code",
   "execution_count": 1,
   "metadata": {},
   "outputs": [],
   "source": [
    "##################################\n",
    "### Import the usual libraries ###\n",
    "##################################\n",
    "\n",
    "### Numpy\n",
    "import numpy as np\n",
    "\n",
    "### Astropy\n",
    "import astropy\n",
    "\n",
    "#Astropy FITS/Table handling\n",
    "from astropy.io import fits, ascii\n",
    "from astropy.table import Table, Column\n",
    "\n",
    "#astropy coorindates/units\n",
    "from astropy.coordinates import SkyCoord\n",
    "import astropy.constants as const\n",
    "import astropy.units as u\n",
    "\n",
    "### Pandas\n",
    "import pandas as pd\n",
    "\n",
    "### fitting\n",
    "import statsmodels.api as sm\n",
    "\n",
    "### PCA\n",
    "from sklearn.decomposition import PCA, KernelPCA\n",
    "\n",
    "### Model generation\n",
    "import itertools as it\n",
    "\n",
    "### Matplotlib\n",
    "import matplotlib\n",
    "import matplotlib.pyplot as plt\n",
    "%matplotlib inline\n",
    "matplotlib.rcParams.update({'font.size': 18}) #make plots more readable\n",
    "\n",
    "# ### Yumi's RA/DEC ---> Magellanic Stream Coorindates\n",
    "import MagellanicStream as ms\n",
    "\n",
    "# ### Functions used in this code\n",
    "import age_functions as afunc\n",
    "\n",
    "### Stuff Writtten by A Really Cool Professor\n",
    "# import dlnpyutils as dlpu\n",
    "\n",
    "### Other\n",
    "import warnings\n",
    "warnings.filterwarnings('ignore')\n",
    "\n",
    "from tqdm import tqdm_notebook\n",
    "\n",
    "### Age of Universe\n",
    "H0 = 74.03*(u.km/u.s)/u.Mpc\n",
    "hertz = H0.to(u.km/u.s/u.pc).to(u.km/u.s/u.km)\n",
    "tage = (1/hertz).to(u.yr)\n",
    "ageU = tage.value"
   ]
  },
  {
   "cell_type": "code",
   "execution_count": 2,
   "metadata": {},
   "outputs": [],
   "source": [
    "# plt.hist(np.log10(parsec['Z']/0.02))"
   ]
  },
  {
   "cell_type": "code",
   "execution_count": 3,
   "metadata": {},
   "outputs": [
    {
     "data": {
      "text/plain": [
       "'/Users/joshuapovick/Desktop/Research/LMC_Ages/Polynomial_LMC_Ages'"
      ]
     },
     "execution_count": 3,
     "metadata": {},
     "output_type": "execute_result"
    }
   ],
   "source": [
    "pwd"
   ]
  },
  {
   "cell_type": "code",
   "execution_count": 5,
   "metadata": {},
   "outputs": [],
   "source": [
    "###################\n",
    "### Import Data ###\n",
    "###################\n",
    "\n",
    "# parsec\n",
    "''' Ages used 8 to 10.1 steps 0.15'''\n",
    "# ''' Metallicity used -2.6 to 0.1 steps 0.099'''\n",
    "\n",
    "# parsecall = ascii.read('/Users/joshuapovick/Desktop/Research/parsec/parsec3_3.dat', \\\n",
    "#                     format='basic', delimiter='\\s')\n",
    "parsec = fits.getdata('/Users/joshuapovick/Desktop/Research/parsec/parsec_massive.fits.gz')\n",
    "rgb = np.where(parsec['label']==3)\n",
    "parsec = parsec[rgb]\n",
    "\n",
    "\n",
    "# r13\n",
    "r13 = fits.getdata('/Users/joshuapovick/Desktop/Research/fits/lmc_rgbmembers.r13-l33-58672.fits.gz')\n",
    "cln = np.where((r13['FE_H']>-9999.0)&(r13['AK_TARG']>-100.0)&(r13['LOGG']>=0.0)&\n",
    "                (r13['M_H_ERR']>-100.0)&(r13['C_FE']>-100.0)&(r13['N_FE']>-100.0))\n",
    "r13 = r13[cln]\n",
    "\n",
    "# APOKASC\n",
    "# kasc = fits.getdata('/Users/joshpovick/Desktop/Research/LMC_Ages/APOKASC_cat_v6.6.1.fits.gz')\n",
    "\n",
    "# Diane Feuillet\n",
    "pdfout = fits.getdata('/Users/joshuapovick/Desktop/Research/fits/LMC_DR16_all_PDF.fits.gz', 1)\n",
    "_, r13_ind, pdfout_ind = np.intersect1d(r13['APOGEE_ID'],pdfout['OBJ'],return_indices=True)"
   ]
  },
  {
   "cell_type": "code",
   "execution_count": 6,
   "metadata": {},
   "outputs": [
    {
     "name": "stdout",
     "output_type": "stream",
     "text": [
      "-2.6:  5.023772863019159e-05\n",
      "min:  0.00012822372\n",
      "max:  0.01532387\n"
     ]
    },
    {
     "data": {
      "image/png": "[encoded data removed]",
      "text/plain": [
       "<Figure size 432x288 with 1 Axes>"
      ]
     },
     "metadata": {
      "needs_background": "light"
     },
     "output_type": "display_data"
    }
   ],
   "source": [
    "z = 0.02*10**r13['FE_H']\n",
    "plt.hist(z)\n",
    "print('-2.6: ',0.02*10**-2.6)\n",
    "print('min: ',min(z))\n",
    "print('max: ',max(z))"
   ]
  },
  {
   "cell_type": "code",
   "execution_count": 8,
   "metadata": {},
   "outputs": [
    {
     "data": {
      "text/plain": [
       "<matplotlib.collections.PathCollection at 0x7f81ce80cac0>"
      ]
     },
     "execution_count": 8,
     "metadata": {},
     "output_type": "execute_result"
    },
    {
     "data": {
      "image/png": "[encoded data removed]",
      "text/plain": [
       "<Figure size 432x288 with 1 Axes>"
      ]
     },
     "metadata": {
      "needs_background": "light"
     },
     "output_type": "display_data"
    }
   ],
   "source": [
    "plt.scatter(parsec['MH'],np.log10(parsec['Z']/0.02))\n",
    "plt.scatter(r13['M_H'],r13['FE_H'])"
   ]
  },
  {
   "cell_type": "code",
   "execution_count": 16,
   "metadata": {},
   "outputs": [
    {
     "name": "stdout",
     "output_type": "stream",
     "text": [
      "0.017376656\n"
     ]
    },
    {
     "data": {
      "text/plain": [
       "0.0021650437"
      ]
     },
     "execution_count": 16,
     "metadata": {},
     "output_type": "execute_result"
    },
    {
     "data": {
      "image/png": "[encoded data removed]",
      "text/plain": [
       "<Figure size 432x288 with 1 Axes>"
      ]
     },
     "metadata": {
      "needs_background": "light"
     },
     "output_type": "display_data"
    }
   ],
   "source": [
    "plt.hist(r13['FE_H_ERR'])\n",
    "print(np.median(r13['FE_H_ERR']))\n",
    "afunc.mad(r13['Fe_H_ERR'])"
   ]
  },
  {
   "cell_type": "code",
   "execution_count": 15,
   "metadata": {},
   "outputs": [
    {
     "name": "stdout",
     "output_type": "stream",
     "text": [
      "0.014860455\n"
     ]
    },
    {
     "data": {
      "text/plain": [
       "0.0019778293"
      ]
     },
     "execution_count": 15,
     "metadata": {},
     "output_type": "execute_result"
    },
    {
     "data": {
      "image/png": "[encoded data removed]",
      "text/plain": [
       "<Figure size 432x288 with 1 Axes>"
      ]
     },
     "metadata": {
      "needs_background": "light"
     },
     "output_type": "display_data"
    }
   ],
   "source": [
    "plt.hist(r13['M_H_ERR'])\n",
    "print(np.median(r13['M_H_ERR']))\n",
    "afunc.mad(r13['M_H_ERR'])"
   ]
  },
  {
   "cell_type": "code",
   "execution_count": 14,
   "metadata": {},
   "outputs": [
    {
     "data": {
      "text/plain": [
       "115"
      ]
     },
     "execution_count": 14,
     "metadata": {},
     "output_type": "execute_result"
    }
   ],
   "source": [
    "len(np.arange(-2.5,-0.2,0.02))"
   ]
  },
  {
   "cell_type": "code",
   "execution_count": 19,
   "metadata": {},
   "outputs": [
    {
     "data": {
      "text/plain": [
       "-2.1930616"
      ]
     },
     "execution_count": 19,
     "metadata": {},
     "output_type": "execute_result"
    }
   ],
   "source": [
    "min(r13['FE_H'])"
   ]
  },
  {
   "cell_type": "code",
   "execution_count": 20,
   "metadata": {},
   "outputs": [
    {
     "data": {
      "text/plain": [
       "(array([  10.,   12., 3167.,  957., 1456., 1497., 1627., 1781., 1990.,\n",
       "        2449.]),\n",
       " array([-2.95703093, -2.66725129, -2.37747165, -2.08769202, -1.79791238,\n",
       "        -1.50813275, -1.21835311, -0.92857347, -0.63879384, -0.3490142 ,\n",
       "        -0.05923456]),\n",
       " <a list of 10 Patch objects>)"
      ]
     },
     "execution_count": 20,
     "metadata": {},
     "output_type": "execute_result"
    },
    {
     "data": {
      "image/png": "[encoded data removed]",
      "text/plain": [
       "<Figure size 432x288 with 1 Axes>"
      ]
     },
     "metadata": {
      "needs_background": "light"
     },
     "output_type": "display_data"
    }
   ],
   "source": [
    "plt.hist(np.log10(parsec['Z']/0.02))"
   ]
  },
  {
   "cell_type": "code",
   "execution_count": 21,
   "metadata": {},
   "outputs": [
    {
     "data": {
      "text/plain": [
       "<matplotlib.collections.PathCollection at 0x7faf2554c970>"
      ]
     },
     "execution_count": 21,
     "metadata": {},
     "output_type": "execute_result"
    },
    {
     "data": {
      "image/png": "[encoded data removed]",
      "text/plain": [
       "<Figure size 432x288 with 1 Axes>"
      ]
     },
     "metadata": {
      "needs_background": "light"
     },
     "output_type": "display_data"
    }
   ],
   "source": [
    "plt.scatter(parsec['logAge'],np.log10(parsec['Z']/0.02))"
   ]
  },
  {
   "cell_type": "code",
   "execution_count": 18,
   "metadata": {},
   "outputs": [
    {
     "data": {
      "text/plain": [
       "(array([], dtype=int64),)"
      ]
     },
     "execution_count": 18,
     "metadata": {},
     "output_type": "execute_result"
    }
   ],
   "source": [
    "np.where(r13['FE_H']<-2.2)"
   ]
  },
  {
   "cell_type": "code",
   "execution_count": 6,
   "metadata": {},
   "outputs": [
    {
     "data": {
      "text/plain": [
       "<matplotlib.colorbar.Colorbar at 0x7f84eec610d0>"
      ]
     },
     "execution_count": 6,
     "metadata": {},
     "output_type": "execute_result"
    },
    {
     "data": {
      "image/png": "[encoded data removed]",
      "text/plain": [
       "<Figure size 864x720 with 2 Axes>"
      ]
     },
     "metadata": {
      "needs_background": "light"
     },
     "output_type": "display_data"
    }
   ],
   "source": [
    "plt.figure(figsize=[12,10])\n",
    "plt.scatter(parsec['MH'],parsec['Xo'],c=parsec['logAge'])\n",
    "plt.colorbar()"
   ]
  },
  {
   "cell_type": "code",
   "execution_count": 7,
   "metadata": {},
   "outputs": [],
   "source": [
    "###############################\n",
    "### Some Calcuations Needed ###\n",
    "###############################\n",
    "\n",
    "### Convert RA DEC to MS L B\n",
    "c_icrs = SkyCoord(ra=r13['RA']*u.degree, dec=r13['DEC']*u.degree)\n",
    "c_ms = c_icrs.transform_to(ms.MagellanicStream)\n",
    "ms_lg,ms_bg = c_ms.MSLongitude.degree, c_ms.MSLatitude.degree\n",
    "\n",
    "for i in range(len(ms_lg)):\n",
    "    if ms_lg[i]-360<-180:\n",
    "        ms_lg[i] += 360.0\n",
    "\n",
    "### Get Solar Fractions\n",
    "abd = {'C':8.39,'N':7.78,'O':8.66,'Mg':7.53,'Ca':6.31,'S':7.14,'Si':7.51,'Fe':7.45}\n",
    "keys = list(abd.keys())\n",
    "\n",
    "sol_2_H = []\n",
    "for i in keys:\n",
    "    sol_2_H.append(abd[i]-12.0)\n",
    "    \n",
    "sol_xm  = 10**np.asarray(sol_2_H)/sum(10**np.asarray(sol_2_H))"
   ]
  },
  {
   "cell_type": "code",
   "execution_count": 8,
   "metadata": {},
   "outputs": [
    {
     "data": {
      "image/png": "[encoded data removed]",
      "text/plain": [
       "<Figure size 864x432 with 1 Axes>"
      ]
     },
     "metadata": {
      "needs_background": "light"
     },
     "output_type": "display_data"
    }
   ],
   "source": [
    "### Setup \n",
    "data = np.array([parsec['logTe'],parsec['Ksmag'],parsec['MH'],parsec['logg']]).T\n",
    "\n",
    "### Determine Number of factors\n",
    "pca = PCA(n_components=4).fit(data)#_rescaled)\n",
    "plt.rcParams[\"figure.figsize\"] = (12,6)\n",
    "\n",
    "fig, ax = plt.subplots()\n",
    "\n",
    "y = np.cumsum(pca.explained_variance_ratio_)\n",
    "xi = np.arange(1, len(pca.explained_variance_ratio_)+1, step=1)\n",
    "\n",
    "plt.ylim(0.0,1.1)\n",
    "plt.plot(xi, y, marker='o', linestyle='--', color='b')\n",
    "\n",
    "plt.xlabel('Number of Components')\n",
    "plt.xticks(np.arange(0, 5, step=1)) #change from 0-based array index to 1-based human-readable label\n",
    "plt.ylabel('Cumulative variance (%)')\n",
    "plt.title('The number of components needed to explain variance')\n",
    "\n",
    "plt.axhline(y=0.99, color='r', linestyle='-')\n",
    "plt.text(0.5, 0.85, '99% cut-off threshold', color = 'red', fontsize=16)\n",
    "\n",
    "ax.grid(axis='x')\n",
    "plt.show()"
   ]
  },
  {
   "cell_type": "code",
   "execution_count": 9,
   "metadata": {},
   "outputs": [
    {
     "data": {
      "application/vnd.jupyter.widget-view+json": {
       "model_id": "3f4b59c7d5284ceaa3cb612e173b3d2c",
       "version_major": 2,
       "version_minor": 0
      },
      "text/plain": [
       "HBox(children=(FloatProgress(value=0.0, description='Done?', max=4095.0, style=ProgressStyle(description_width…"
      ]
     },
     "metadata": {},
     "output_type": "display_data"
    },
    {
     "name": "stdout",
     "output_type": "stream",
     "text": [
      "\n"
     ]
    }
   ],
   "source": [
    "### Find all models\n",
    "\n",
    "#transform data to new basis\n",
    "new_data = PCA(n_components=3).fit(data).transform(data)\n",
    "\n",
    "#create new variables\n",
    "\n",
    "# linear terms\n",
    "x1 = new_data[:,0]\n",
    "x2 = new_data[:,1]\n",
    "x3 = new_data[:,2]\n",
    "\n",
    "# linear int\n",
    "x12 = np.multiply(x1,x2)\n",
    "x13 = np.multiply(x1,x3)\n",
    "x23 = np.multiply(x2,x3)\n",
    "\n",
    "# squares\n",
    "x1sq = x1**2\n",
    "x2sq = x2**2\n",
    "x3sq = x3**2\n",
    "\n",
    "# cubes\n",
    "x1cu = x1**3\n",
    "x2cu = x2**3\n",
    "x3cu = x3**3\n",
    "\n",
    "\n",
    "#find all possible models\n",
    "models = []\n",
    "models_str = []\n",
    "\n",
    "all_var_str = ['x1','x2','x3','x12','x13','x23','x1sq','x2sq','x3sq','x1cu','x2cu','x3cu']\n",
    "all_var = [x1,x2,x3,x12,x13,x23,x1sq,x2sq,x3sq,x1cu,x2cu,x3cu]\n",
    "\n",
    "for i in range(1,len(all_var)+1):\n",
    "    for subset in it.combinations(all_var,i):\n",
    "        models.append(subset)\n",
    "    for subset_str in it.combinations(all_var_str,i):\n",
    "        models_str.append(np.array(subset_str))\n",
    "        \n",
    "models = np.array(models)\n",
    "models_str = np.array(models_str)\n",
    "\n",
    "### Fit All Models\n",
    "\n",
    "import statsmodels.api as sm \n",
    "\n",
    "all_params = []\n",
    "summaries = []\n",
    "max_resid = []\n",
    "mads = []\n",
    "resids = []\n",
    "predict = []\n",
    "ll = []\n",
    "for i in tqdm_notebook(range(len(models)),desc='Done?'):\n",
    "    pmodl = np.array(models[i]).T\n",
    "    pmodl = sm.add_constant(pmodl)\n",
    "    model = sm.OLS(parsec['logAge'],pmodl).fit()\n",
    "    summaries.append(model.summary())\n",
    "    predictions = model.predict(pmodl)\n",
    "    predict.append(predictions)\n",
    "    residual = predictions - parsec['logAge']\n",
    "    resids.append(residual)\n",
    "    all_params.append(np.asarray(model.params))\n",
    "    max_resid.append(np.max(np.absolute(residual)))\n",
    "    mads.append(afunc.mad(residual))\n",
    "    ll.append(model.llf)"
   ]
  },
  {
   "cell_type": "code",
   "execution_count": 10,
   "metadata": {},
   "outputs": [
    {
     "data": {
      "text/plain": [
       "<matplotlib.collections.PathCollection at 0x7f84bb8345b0>"
      ]
     },
     "execution_count": 10,
     "metadata": {},
     "output_type": "execute_result"
    },
    {
     "data": {
      "image/png": "[encoded data removed]",
      "text/plain": [
       "<Figure size 864x432 with 1 Axes>"
      ]
     },
     "metadata": {
      "needs_background": "light"
     },
     "output_type": "display_data"
    }
   ],
   "source": [
    "plt.scatter(mads,ll)"
   ]
  },
  {
   "cell_type": "code",
   "execution_count": 11,
   "metadata": {},
   "outputs": [
    {
     "data": {
      "text/plain": [
       "<matplotlib.collections.PathCollection at 0x7f84bb880730>"
      ]
     },
     "execution_count": 11,
     "metadata": {},
     "output_type": "execute_result"
    },
    {
     "data": {
      "image/png": "[encoded data removed]",
      "text/plain": [
       "<Figure size 864x432 with 1 Axes>"
      ]
     },
     "metadata": {
      "needs_background": "light"
     },
     "output_type": "display_data"
    }
   ],
   "source": [
    "plt.scatter(ll,max_resid)"
   ]
  },
  {
   "cell_type": "code",
   "execution_count": 12,
   "metadata": {},
   "outputs": [],
   "source": [
    "# models_str[np.asarray(max_resid).argmin()]"
   ]
  },
  {
   "cell_type": "code",
   "execution_count": 13,
   "metadata": {},
   "outputs": [
    {
     "data": {
      "text/plain": [
       "array(['x1', 'x2', 'x3', 'x12', 'x13', 'x23', 'x1sq', 'x2sq', 'x3sq',\n",
       "       'x1cu', 'x2cu'], dtype='<U4')"
      ]
     },
     "execution_count": 13,
     "metadata": {},
     "output_type": "execute_result"
    }
   ],
   "source": [
    "models_str[np.asarray(mads).argmin()]"
   ]
  },
  {
   "cell_type": "code",
   "execution_count": 14,
   "metadata": {},
   "outputs": [],
   "source": [
    "# models_str[np.asarray(mads).argmin()]"
   ]
  },
  {
   "cell_type": "code",
   "execution_count": 15,
   "metadata": {},
   "outputs": [
    {
     "data": {
      "text/plain": [
       "array(['x1', 'x2', 'x3', 'x12', 'x13', 'x23', 'x1sq', 'x2sq', 'x3sq',\n",
       "       'x1cu', 'x3cu'], dtype='<U4')"
      ]
     },
     "execution_count": 15,
     "metadata": {},
     "output_type": "execute_result"
    }
   ],
   "source": [
    "models_str[np.asarray(max_resid).argmin()]"
   ]
  },
  {
   "cell_type": "code",
   "execution_count": 16,
   "metadata": {},
   "outputs": [],
   "source": [
    "# parsimonious = np.array([x1,x2,x3,x12,x13,x23,x1sq,x2sq,x3sq,x1cu,x2cu,x3cu]).T\n",
    "# parsimonious = sm.add_constant(parsimonious)\n",
    "# parsimonious_model = sm.OLS(parsec['logAge'],parsimonious).fit()\n",
    "# parsimonious_predictions = parsimonious_model.predict(parsimonious)\n",
    "# parsimonious_residual = parsimonious_predictions - parsec['logAge']\n",
    "# print(afunc.mad(parsimonious_residual))\n",
    "# parsimonious_summary = parsimonious_model.summary()\n",
    "# print(parsimonious_summary)\n",
    "# print(np.asarray(parsimonious_model.params))\n",
    "# # print(models_str[np.asarray(ll).argmax()])"
   ]
  },
  {
   "cell_type": "code",
   "execution_count": 17,
   "metadata": {},
   "outputs": [],
   "source": [
    "# parsimonious = np.array([x1,x2,x3,x12,x13,x23,x1sq,x2sq,x3sq,x1cu,x2cu,x3cu]).T\n",
    "# parsimonious = sm.add_constant(parsimonious)\n",
    "# parsimonious_model = sm.OLS(parsec['logAge'],parsimonious).fit()\n",
    "# parsimonious_predictions = parsimonious_model.predict(parsimonious)\n",
    "# parsimonious_residual = parsimonious_predictions - parsec['logAge']\n",
    "# print(afunc.mad(parsimonious_residual))\n",
    "# parsimonious_summary = parsimonious_model.summary()\n",
    "# print(parsimonious_summary)\n",
    "# print(np.asarray(parsimonious_model.params))\n",
    "# print(models_str[np.asarray(ll).argmax()])"
   ]
  },
  {
   "cell_type": "code",
   "execution_count": 18,
   "metadata": {},
   "outputs": [],
   "source": [
    "# parsimonious = np.array([x1,x2,x3,x12,x13,x23,x1sq,x2sq,x3sq,x2cu,x3cu]).T\n",
    "# parsimonious = sm.add_constant(parsimonious)\n",
    "# parsimonious_model = sm.OLS(parsec['logAge'],parsimonious).fit()\n",
    "# parsimonious_predictions = parsimonious_model.predict(parsimonious)\n",
    "# parsimonious_residual = parsimonious_predictions - parsec['logAge']\n",
    "# print(afunc.mad(parsimonious_residual))\n",
    "# parsimonious_summary = parsimonious_model.summary()\n",
    "# print(parsimonious_summary)\n",
    "# print(np.asarray(parsimonious_model.params))\n",
    "# # print(models_str[np.asarray(ll).argmax()])"
   ]
  },
  {
   "cell_type": "code",
   "execution_count": 19,
   "metadata": {},
   "outputs": [],
   "source": [
    "# ### Final Age Model\n",
    "\n",
    "# def find_ages(z1,z2,z3):\n",
    "#     # all of them NO\n",
    "# #     p=[ 9.38632004e+00,4.56560132e-02,-5.98144381e-02,-2.99645418e+00,1.86773433e-02,\n",
    "# #        -4.49811350e-02,1.10821907e-01,-5.93635093e-03,2.51466115e-02,7.98516719e-01,\n",
    "# #        6.91983807e-06,2.26647606e-02,4.02013915e-01]\n",
    "# #     ages = (p[0]+p[1]*z1+p[2]*z2+p[3]*p[4]*np.multiply(z1,z2)+p[5]*np.multiply(z1,z3)+\n",
    "# #             p[6]*np.multiply(z2,z3)+p[7]*(z1**2)+p[8]*(z2**2)+p[9]*(z3**2)+p[10]*(z1**3)+\n",
    "# #             p[11]*(z2**3)+p[12]*(z3**3))\n",
    "\n",
    "#     # 'x1' 'x2' 'x3' 'x12' 'x13' 'x23' 'x1sq' 'x2sq' 'x3sq' 'x2cu' 'x3cu'\n",
    "#     p = [9.38631710e+00,4.57009017e-02,-5.98198867e-02,-2.99642242e+00,1.86921027e-02,-4.51165023e-02,\n",
    "#          1.10829968e-01,-5.93377185e-03,2.51457473e-02,7.98522275e-01,2.26643514e-02,4.00941011e-01]\n",
    "#     ages = (p[0]+p[1]*z1+p[2]*z2+p[3]*p[4]*np.multiply(z1,z2)+p[5]*np.multiply(z1,z3)+\n",
    "#             p[6]*np.multiply(z2,z3)+p[7]*(z1**2)+p[8]*(z2**2)+p[9]*(z3**2)+p[10]*(z2**3)+p[11]*(z3**3))\n",
    "#     return ages\n"
   ]
  },
  {
   "cell_type": "code",
   "execution_count": 20,
   "metadata": {},
   "outputs": [],
   "source": [
    "# l Age Model\n",
    "\n",
    "# def find_ages(z1,z2,z3):\n",
    "#     p = [9.38559303e+00,4.50640684e-02,-6.04245546e-02,-2.97525149e+00,1.89919586e-02,-5.42190398e-02,\n",
    "#          1.09839708e-01,-5.88914872e-03,2.50980954e-02,8.74102230e-01,2.28289124e-02]\n",
    "    \n",
    "#     age = (p[0]+p[1]*z1+p[2]*z2+p[3]*z3+p[4]*np.multiply(z1,z2)+p[5]*np.multiply(z1,z3)+p[6]*np.multiply(z2,z3)+\n",
    "#            p[7]*np.square(z1)+p[8]*np.square(z2)+p[9]*np.square(z3)+p[10]*(z3**3))\n",
    "#     p=[9.38439200e+00,4.52032966e-02,-3.89501708e-02,-2.97430070e+00,1.89942809e-02,-5.40460673e-02,1.10591414e-01\n",
    "#        ,-5.87621144e-03,2.69613674e-02,8.71979746e-01]\n",
    "#     age=(p[0]+p[1]*z1+p[2]*z2+p[3]*z3+p[4]*np.multiply(z1,z2)+p[5]*np.multiply(z1,z3)+p[6]*np.multiply(z2,z3)+\n",
    "#          p[7]*(z1**2)+p[8]*(z2**2)+p[9]*(z3**2)) \n",
    "#     p = [ 9.38439200e+00,4.52032966e-02,-3.89501708e-02,-2.97430070e+00,1.89942809e-02,-5.40460673e-02,\n",
    "#          1.10591414e-01,-5.87621144e-03,2.69613674e-02,8.71979746e-01]\n",
    "#     age = (p[0]+p[1]*z1+p[2]*z2+p[3]*z3+p[4]*np.multiply(x1,x2)+p[5]*np.multiply(x1,x3)+p[6]*np.multiply(x2,x3)+\n",
    "#            p[7]*(x1**2)+p[8]*(x2**2)+p[9]*(x3**2))\n",
    "#     p = [9.38635341e+00,4.94863782e-02,-5.88867291e-02,-3.03646050e+00,1.83469126e-02,1.21122776e-01,\n",
    "#          -6.14563208e-03,2.49234846e-02,6.83924894e-01,2.21039907e-02,1.37377932e+00]\n",
    "#     age = (p[0]+p[1]*z1+p[2]*z2+p[3]*z3+p[4]*np.multiply(z1,z2)+p[5]*np.multiply(z1,z3)+p[6]*np.multiply(z2,z3)+\n",
    "#            p[7]*(z1**2)+p[8]*(z2**2)+p[9]*(z2**3)+p[10]*(z3**3))\n",
    "    \n",
    "    \n",
    "    #MAYBE \n",
    "#     p = [9.38632004e+00,4.56560132e-02,-5.98144381e-02,-2.99645418e+00,1.86773433e-02,-4.49811350e-02,\n",
    "#          1.10821907e-01,-5.93635093e-03,2.51466115e-02,7.98516719e-01,6.91983807e-06,2.26647606e-02,\n",
    "#          4.02013915e-01]\n",
    "#     age = (p[0]+p[1]*z1+p[2]*z2+p[3]*z3+p[4]*np.multiply(z1,z2)+p[5]*np.multiply(z1,z3)+p[6]*np.multiply(z2,z3)+\n",
    "#            p[7]*(z1**2)+p[8]*(z2**2)+p[9]*(z3**2)+p[10]*(z1**3)+p[11]*(z2**3)+p[12]*(z3**3))\n",
    "    \n",
    "    #x1,x2,x3,x12,x13,x23,x1sq,x2sq,x3sq,x3cu diane good grads bad\n",
    "#     p = [9.38515897e+00,4.58688521e-02,-3.84792679e-02,-2.99646858e+00,1.86803888e-02,-4.45192811e-02,\n",
    "#          1.11622297e-01,-5.92301837e-03,2.69971879e-02,7.92882358e-01,4.19685455e-01]\n",
    "#     age = (p[0]+p[1]*z1+p[2]*z2+p[3]*z3+p[4]*np.multiply(z1,z2)+p[5]*np.multiply(z1,z3)+p[6]*np.multiply(z2,z3)+\n",
    "#            p[7]*(z1**2)+p[8]*(z2**2)+p[9]*(z3**2)+p[10]*(z3**3))\n",
    "    \n",
    "    #x1,x2,x3,x12,x13,x23,x1sq,x2sq,x3sq\n",
    "#     p = [9.38439200e+00,4.52032966e-02,-3.89501708e-02,-2.97430070e+00,1.89942809e-02,-5.40460673e-02,\n",
    "#          1.10591414e-01,-5.87621144e-03,2.69613674e-02,8.71979746e-01]\n",
    "#     age = (p[0]+p[1]*z1+p[2]*z2+p[3]*z3+p[4]*np.multiply(z1,z2)+p[5]*np.multiply(z1,z3)+p[6]*np.multiply(z2,z3)+\n",
    "#            p[7]*(z1**2)+p[8]*(z2**2)+p[9]*(z3**2))\n",
    "    \n",
    "    # x1,x2,x3,x12,x13,x23,x1sq,x3sq\n",
    "#     p = [9.39959662e+00,4.52035924e-02,-3.93931497e-02,-2.96912442e+00,1.93135473e-02,-5.27122256e-02,\n",
    "#          1.11865508e-01,-5.76302442e-03,8.61921873e-01]\n",
    "#     age = (p[0]+p[1]*z1+p[2]*z2+p[3]*z3+p[4]*np.multiply(z1,z2)+p[5]*np.multiply(z1,z3)+p[6]*np.multiply(z2,z3)+\n",
    "#            p[7]*(z1**2)+p[8]*(z3**2))\n",
    "    \n",
    "#     #x1,x2,x3,x12,x1sq,x3sq\n",
    "#     p = [9.39780792e+00,5.02485864e-02,-3.99480944e-02,-2.92632823e+00,1.99585372e-02,-6.25818591e-03,\n",
    "#          9.68403231e-01]\n",
    "#     age = (p[0]+p[1]*z1+p[2]*z2+p[3]*z3+p[4]*np.multiply(z1,z2)+p[5]*(z1**2)+p[6]*(z3**2))\n",
    "#     return age"
   ]
  },
  {
   "cell_type": "code",
   "execution_count": 21,
   "metadata": {},
   "outputs": [],
   "source": [
    "# def find_ages(z1,z2,z3):\n",
    "    #x1,x2,x3,x12,x13,x23,x1sq,x2sq,x3sq\n",
    "#     p = [9.38439200e+00,4.52032966e-02,-3.89501708e-02,-2.97430070e+00,1.89942809e-02,-5.40460673e-02,\n",
    "#          1.10591414e-01,-5.87621144e-03,2.69613674e-02,8.71979746e-01]\n",
    "#     age = (p[0]+p[1]*z1+p[2]*z2+p[3]*z3+p[4]*np.multiply(z1,z2)+p[5]*np.multiply(z1,z3)+p[6]*np.multiply(z2,z3)+\n",
    "#            p[7]*(z1**2)+p[8]*(z2**2)+p[9]*(z3**2))\n",
    "    \n",
    "#     #x1,x2,x3,x12,x13,x23,x1sq,x3sq\n",
    "#     p = [9.39959662e+00,4.52035924e-02,-3.93931497e-02,-2.96912442e+00,1.93135473e-02,-5.27122256e-02,\n",
    "#          1.11865508e-01,-5.76302442e-03,8.61921873e-01]\n",
    "#     age = (p[0]+p[1]*z1+p[2]*z2+p[3]*z3+p[4]*np.multiply(z1,z2)+p[5]*np.multiply(z1,z3)+p[6]*np.multiply(z2,z3)+\n",
    "#            p[7]*(z1**2)+p[8]*(z3**2))\n",
    "#     p = [9.38632004e+00,4.56560132e-02,-5.98144381e-02,-2.99645418e+00,1.86773433e-02,-4.49811350e-02,\n",
    "#           1.10821907e-01,-5.93635093e-03,2.51466115e-02,7.98516719e-01,6.91983807e-06,2.26647606e-02,\n",
    "#           4.02013915e-01]\n",
    "#     age = (p[0]+p[1]*z1+p[2]*z2+p[3]*z3+p[4]*np.multiply(z1,z2)+p[5]*np.multiply(z1,z3)+p[6]*np.multiply(z2,z3)+\n",
    "#            p[7]*(z1**2)+p[8]*(z2**2)+p[9]*(z3**2)+p[10]*(z1**3)+p[11]*(z2**3)+p[12]*(z3**3))\n",
    "#     return age\n",
    "\n",
    "#     p = [9.38632004e+00,4.56560132e-02,-5.98144381e-02,-2.99645418e+00,1.86773433e-02,-4.49811350e-02,\n",
    "#          1.10821907e-01,-5.93635093e-03,2.51466115e-02,7.98516719e-01,6.91983807e-06,2.26647606e-02,\n",
    "#          4.02013915e-01]\n",
    "#     age = (p[0]+p[1]*z1+p[2]*z2+p[3]*z3+p[4]*np.multiply(z1,z2)+p[5]*np.multiply(z1,z3)+p[6]*np.multiply(z2,z3)+\n",
    "#            p[7]*(z1**2)+p[8]*(z2**2)+p[9]*(z3**2)+p[10]*(z1**3)+p[11]*(z2**3)+p[12]*(z3**3))\n",
    "#     return age"
   ]
  },
  {
   "cell_type": "code",
   "execution_count": 22,
   "metadata": {},
   "outputs": [],
   "source": [
    "# def find_ages(z1,z2,z3):\n",
    "#     # all but cubes\n",
    "#     p = [9.38439200e+00,4.52032966e-02,-3.89501708e-02,-2.97430070e+00,1.89942809e-02,-5.40460673e-02,\n",
    "#          1.10591414e-01,-5.87621144e-03,2.69613674e-02,8.71979746e-01]\n",
    "#     ages = (p[0]+p[1]*z1+p[2]*z2+p[3]*z3+p[4]*np.multiply(z1,z2)+p[5]*np.multiply(z1,z3)+p[6]*np.multiply(z2,z3)+\n",
    "#             p[7]*(z1**2)+p[8]*(z2**2)+p[9]*(z3**2))\n",
    "#     return ages"
   ]
  },
  {
   "cell_type": "code",
   "execution_count": 23,
   "metadata": {},
   "outputs": [],
   "source": [
    "# [ 9.38632004e+00,4.56560132e-02,-5.98144381e-02,-2.99645418e+00,1.86773433e-02,\n",
    "#        -4.49811350e-02,1.10821907e-01,-5.93635093e-03,2.51466115e-02,7.98516719e-01,\n",
    "#        6.91983807e-06,2.26647606e-02,4.02013915e-01] == [9.38632004e+00,4.56560132e-02,-5.98144381e-02,-2.99645418e+00,1.86773433e-02,-4.49811350e-02,\n",
    "#          1.10821907e-01,-5.93635093e-03,2.51466115e-02,7.98516719e-01,6.91983807e-06,2.26647606e-02,\n",
    "#          4.02013915e-01]"
   ]
  },
  {
   "cell_type": "code",
   "execution_count": 24,
   "metadata": {},
   "outputs": [
    {
     "name": "stdout",
     "output_type": "stream",
     "text": [
      "['x1' 'x2' 'x3' 'x12' 'x13' 'x23' 'x1sq' 'x2sq' 'x3sq' 'x1cu' 'x2cu'\n",
      " 'x3cu']\n"
     ]
    }
   ],
   "source": [
    "print(models_str[np.asarray(ll).argmax()])"
   ]
  },
  {
   "cell_type": "code",
   "execution_count": 25,
   "metadata": {},
   "outputs": [],
   "source": [
    "# parsimonious = np.array([x1,x2,x3,x12,x13,x23,x1sq,x2sq,x3sq,x1cu,x2cu]).T\n",
    "parsimonious = np.array([x1,x2,x3,x12,x13,x23,x1sq,x2sq,x3sq,x2cu,x3cu]).T"
   ]
  },
  {
   "cell_type": "code",
   "execution_count": 26,
   "metadata": {},
   "outputs": [
    {
     "name": "stdout",
     "output_type": "stream",
     "text": [
      "0.007896514050078629\n",
      "                            OLS Regression Results                            \n",
      "==============================================================================\n",
      "Dep. Variable:                      y   R-squared:                       0.999\n",
      "Model:                            OLS   Adj. R-squared:                  0.999\n",
      "Method:                 Least Squares   F-statistic:                 1.846e+06\n",
      "Date:                Fri, 05 Feb 2021   Prob (F-statistic):               0.00\n",
      "Time:                        10:39:48   Log-Likelihood:                 42862.\n",
      "No. Observations:               14946   AIC:                        -8.570e+04\n",
      "Df Residuals:                   14934   BIC:                        -8.561e+04\n",
      "Df Model:                          11                                         \n",
      "Covariance Type:            nonrobust                                         \n",
      "==============================================================================\n",
      "                 coef    std err          t      P>|t|      [0.025      0.975]\n",
      "------------------------------------------------------------------------------\n",
      "const          9.3863      0.000   4.15e+04      0.000       9.386       9.387\n",
      "x1             0.0457   8.67e-05    527.175      0.000       0.046       0.046\n",
      "x2            -0.0598      0.000   -139.572      0.000      -0.061      -0.059\n",
      "x3            -2.9964      0.001  -2216.510      0.000      -2.999      -2.994\n",
      "x4             0.0187   8.35e-05    223.726      0.000       0.019       0.019\n",
      "x5            -0.0451      0.001    -72.954      0.000      -0.046      -0.044\n",
      "x6             0.1108      0.001    129.045      0.000       0.109       0.113\n",
      "x7            -0.0059   3.11e-05   -190.746      0.000      -0.006      -0.006\n",
      "x8             0.0251      0.000    101.518      0.000       0.025       0.026\n",
      "x9             0.7985      0.005    156.007      0.000       0.788       0.809\n",
      "x10            0.0227      0.000     53.381      0.000       0.022       0.023\n",
      "x11            0.4009      0.019     21.037      0.000       0.364       0.438\n",
      "==============================================================================\n",
      "Omnibus:                     1053.599   Durbin-Watson:                   0.201\n",
      "Prob(Omnibus):                  0.000   Jarque-Bera (JB):             5445.770\n",
      "Skew:                           0.070   Prob(JB):                         0.00\n",
      "Kurtosis:                       5.954   Cond. No.                         950.\n",
      "==============================================================================\n",
      "\n",
      "Notes:\n",
      "[1] Standard Errors assume that the covariance matrix of the errors is correctly specified.\n",
      "[ 9.38631710e+00  4.57009017e-02 -5.98198867e-02 -2.99642242e+00\n",
      "  1.86921027e-02 -4.51165023e-02  1.10829968e-01 -5.93377185e-03\n",
      "  2.51457473e-02  7.98522275e-01  2.26643514e-02  4.00941011e-01]\n"
     ]
    }
   ],
   "source": [
    "# parsimonious = np.array([x1,x2,x3,x12,x13,x23,x1sq,x2sq,x3sq]).T#,x2cu]).T\n",
    "# parsimonious = np.array([x1,x2,x3,x12,x13,x23,x1sq,x2sq,x3sq,x1cu,x2cu]).T\n",
    "# parsimonious = np.array([x1,x2,x3,x12,x13,x23,x1sq,x2sq,x3sq,x2cu]).T\n",
    "parsimonious = sm.add_constant(parsimonious)\n",
    "parsimonious_model = sm.OLS(parsec['logAge'],parsimonious).fit()\n",
    "parsimonious_predictions = parsimonious_model.predict(parsimonious)\n",
    "parsimonious_residual = parsimonious_predictions - parsec['logAge']\n",
    "print(afunc.mad(parsimonious_residual))\n",
    "parsimonious_summary = parsimonious_model.summary()\n",
    "print(parsimonious_summary)\n",
    "print(np.asarray(parsimonious_model.params))\n",
    "# print(models_str[np.asarray(ll).argmax()])"
   ]
  },
  {
   "cell_type": "code",
   "execution_count": 27,
   "metadata": {},
   "outputs": [],
   "source": [
    "# [9.38559303e+00,4.50640684e-02,-6.04245546e-02,-2.97525149e+00,1.89919586e-02,-5.42190398e-02,1.09839708e-01,\n",
    "# -5.88914872e-03,2.50980954e-02,8.74102230e-01,2.28289124e-02]==[9.38559303e+00,4.50640684e-02,-6.04245546e-02,\n",
    "# -2.97525149e+00,1.89919586e-02,-5.42190398e-02,1.09839708e-01,-5.88914872e-03,2.50980954e-02,8.74102230e-01,\n",
    "# 2.28289124e-02]\n",
    "\n",
    "# [9.38439200e+00,4.52032966e-02,-3.89501708e-02,-2.97430070e+00,1.89942809e-02,-5.40460673e-02,1.10591414e-01,\n",
    "# -5.87621144e-03,2.69613674e-02,8.71979746e-01] == [9.38439200e+00,4.52032966e-02,-3.89501708e-02,-2.97430070e+00,\n",
    "# 1.89942809e-02 -5.40460673e-02,1.10591414e-01,-5.87621144e-03,2.69613674e-02,8.71979746e-01]"
   ]
  },
  {
   "cell_type": "code",
   "execution_count": 28,
   "metadata": {},
   "outputs": [],
   "source": [
    "def find_ages(z1,z2,z3):\n",
    "    #x1,x2,x3,x12,x13,x23,x1sq,x2sq,x3sq,x1cu,x2cu,x3cu\n",
    "#     p = [9.38632004e+00,4.56560132e-02,-5.98144381e-02,-2.99645418e+00,1.86773433e-02,-4.49811350e-02,\n",
    "#          1.10821907e-01,-5.93635093e-03,2.51466115e-02,7.98516719e-01,6.91983807e-06,2.26647606e-02,\n",
    "#          4.02013915e-01]\n",
    "#     age = (p[0]+p[1]*z1+p[2]*z2+p[3]*z3+p[4]*np.multiply(z1,z2)+p[5]*np.multiply(z1,z3)+p[6]*np.multiply(z2,z3)+\n",
    "#            p[7]*(z1**2)+p[8]*(z2**2)+p[9]*(z3**2)+p[10]*(z1**3)+p[11]*(z2**3)+p[12]*(z3**3))\n",
    "    \n",
    "    #Very Close\n",
    "    #x1,x2,x3,x12,x13,x23,x1sq,x2sq,x3sq,x2cu,x3cu\n",
    "#     p = [9.38631710e+00,4.57009017e-02,-5.98198867e-02,-2.99642242e+00,1.86921027e-02,-4.51165023e-02,\n",
    "#          1.10829968e-01,-5.93377185e-03,2.51457473e-02,7.98522275e-01,2.26643514e-02,4.00941011e-01]\n",
    "#     age = (p[0]+p[1]*z1+p[2]*z2+p[3]*z3+p[4]*np.multiply(z1,z2)+p[5]*np.multiply(z1,z3)+p[6]*np.multiply(z2,z3)+\n",
    "#            p[7]*(z1**2)+p[8]*(z2**2)+p[9]*(z3**2)+p[10]*(z2**3)+p[11]*(z3**3))\n",
    "    \n",
    "    #good good\n",
    "#     x1,x2,x3,x12,x13,x23,x1sq,x2sq,x3sq,x2cu\n",
    "#     p = [9.38559303e+00,4.50640684e-02,-6.04245546e-02,-2.97525149e+00,1.89919586e-02,-5.42190398e-02,\n",
    "#          1.09839708e-01,-5.88914872e-03,2.50980954e-02,8.74102230e-01,2.28289124e-02]\n",
    "#     age = (p[0]+p[1]*z1+p[2]*z2+p[3]*z3+p[4]*np.multiply(z1,z2)+p[5]*np.multiply(z1,z3)+p[6]*np.multiply(z2,z3)+\n",
    "#            p[7]*(z1**2)+p[8]*(z2**2)+p[9]*(z3**2)+p[10]*(z2**3))\n",
    "    \n",
    "    #x1,x2,x3,x12,x13,x23,x1sq,x2sq,x3sq,x2cu,x3cu\n",
    "    p = [9.38631710e+00,4.57009017e-02,-5.98198867e-02,-2.99642242e+00,1.86921027e-02,-4.51165023e-02,\n",
    "         1.10829968e-01,-5.93377185e-03,2.51457473e-02,7.98522275e-01,2.26643514e-02,4.00941011e-01]\n",
    "    age = (p[0]+p[1]*z1+p[2]*z2+p[3]*z3+p[4]*np.multiply(z1,z2)+p[5]*np.multiply(z1,z3)+p[6]*np.multiply(z2,z3)+\n",
    "           p[7]*(z1**2)+p[8]*(z2**2)+p[9]*(z3**2)+p[10]*(z2**3)+p[11]*(z3**3))\n",
    "    \n",
    "    \n",
    "    #x1,x2,x3,x12,x13,x23,x1sq,x2sq,x3sq\n",
    "#     p = [9.38439200e+00,4.52032966e-02,-3.89501708e-02,-2.97430070e+00,1.89942809e-02,-5.40460673e-02,\n",
    "#          1.10591414e-01,-5.87621144e-03,2.69613674e-02,8.71979746e-01]\n",
    "#     age = (p[0]+p[1]*z1+p[2]*z2+p[3]*z3+p[4]*np.multiply(z1,z2)+p[5]*np.multiply(z1,z3)+p[6]*np.multiply(z2,z3)+\n",
    "#            p[7]*(z1**2)+p[8]*(z2**2)+p[9]*(z3**2))\n",
    "    \n",
    "#     #x1,x2,x3,x12,x13,x23,x1sq,x2sq,x3sq\n",
    "#     p = [9.38439200e+00,4.52032966e-02,-3.89501708e-02,-2.97430070e+00,1.89942809e-02,-5.40460673e-02,\n",
    "#          1.10591414e-01,-5.87621144e-03,2.69613674e-02,8.71979746e-01]\n",
    "#     age = (p[0]+p[1]*z1+p[2]*z2+p[3]*z3+p[4]*np.multiply(z1,z2)+p[5]*np.multiply(z1,z3)+p[6]*np.multiply(z2,z3)+\n",
    "#            p[7]*(z1**2)+p[8]*(z2**2)+p[9]*(z3**2))\n",
    "    \n",
    "#     #x1,x2,x3,x12,x13,x23,x1sq,x2sq,x3sq,x2cu,x3cu\n",
    "#     p = [9.38631710e+00,4.57009017e-02,-5.98198867e-02,-2.99642242e+00,1.86921027e-02,-4.51165023e-02,\n",
    "#          1.10829968e-01,-5.93377185e-03,2.51457473e-02,7.98522275e-01,2.26643514e-02,4.00941011e-01]\n",
    "#     age = (p[0]+p[1]*z1+p[2]*z2+p[3]*z3+p[4]*np.multiply(z1,z2)+p[5]*np.multiply(z1,z3)+p[6]*np.multiply(z2,z3)+\n",
    "#            p[7]*(z2**2)+p[8]*(z3**2))\n",
    "\n",
    "    #x1,x2,x3,x12,x13,x23,x1sq,x2sq,x3sq,x2cu\n",
    "#     p = [9.38559303e+00,4.50640684e-02,-6.04245546e-02,-2.97525149e+00,1.89919586e-02,-5.42190398e-02,\n",
    "#          1.09839708e-01,-5.88914872e-03,2.50980954e-02,8.74102230e-01,2.28289124e-02]\n",
    "#     age = (p[0]+p[1]*z1+p[2]*z2+p[3]*z3+p[4]*np.multiply(z1,z2)+p[5]*np.multiply(z1,z3)+p[6]*np.multiply(z2,z3)+\n",
    "#            p[7]*(z1**2)+p[8]*(z2**2))\n",
    "    \n",
    "#     p = [9.38559303e+00,4.50640684e-02,-6.04245546e-02,-2.97525149e+00,1.89919586e-02,-5.42190398e-02,\n",
    "#          1.09839708e-01,-5.88914872e-03,2.50980954e-02,8.74102230e-01,2.28289124e-02]\n",
    "#     age = (p[0]+p[1]*z1+p[2]*z2+p[3]*z3+p[4]*np.multiply(z1,z2)+p[5]*np.multiply(z1,z3)+p[6]*np.multiply(z2,z3)+\n",
    "#            p[7]*(z2**2))\n",
    "    return age\n"
   ]
  },
  {
   "cell_type": "code",
   "execution_count": 2,
   "metadata": {},
   "outputs": [
    {
     "data": {
      "text/plain": [
       "True"
      ]
     },
     "execution_count": 2,
     "metadata": {},
     "output_type": "execute_result"
    }
   ],
   "source": [
    "a = [9.38631710e+00,4.57009017e-02,-5.98198867e-02,-2.99642242e+00,1.86921027e-02,-4.51165023e-02,1.10829968e-01,\n",
    " -5.93377185e-03,2.51457473e-02,7.98522275e-01,2.26643514e-02,4.00941011e-01]\n",
    "b = [9.38631710e+00,4.57009017e-02,-5.98198867e-02,-2.99642242e+00,1.86921027e-02,-4.51165023e-02,\n",
    "          1.10829968e-01,-5.93377185e-03,2.51457473e-02,7.98522275e-01,2.26643514e-02,4.00941011e-01]\n",
    "\n",
    "a==b"
   ]
  },
  {
   "cell_type": "markdown",
   "metadata": {},
   "source": [
    "<font size='48'>\n",
    "    <b>\n",
    "        CALCULATE AGES\n",
    "    </b>\n",
    "</font>"
   ]
  },
  {
   "cell_type": "code",
   "execution_count": 30,
   "metadata": {},
   "outputs": [],
   "source": [
    "### Uncertainty Functions\n",
    "\n",
    "def add_noise(quant,quant_err,distribution='normal'):\n",
    "    '''\n",
    "    Add noise to data and return new values\n",
    "    \n",
    "    Parameters:\n",
    "    ----------\n",
    "        quant: 1d array-like data to add noise to\n",
    "        quant_err: 1d array-like object of errors for quant\n",
    "        distribution: which distribution to use 'normal', 'poisson', 'uniform'\n",
    "    \n",
    "    return: \n",
    "    ------\n",
    "        1d array-like object of data with added noise\n",
    "    \n",
    "    '''\n",
    "    if distribution == 'normal':\n",
    "        return np.random.normal(quant,quant_err)\n",
    "    if distribution == 'poisson':\n",
    "        return quant + np.random.poisson(quant_err)\n",
    "    if distribution == 'uniform':\n",
    "        return np.random.uniform(-quant_err+quant,quant+quant_err)"
   ]
  },
  {
   "cell_type": "code",
   "execution_count": 31,
   "metadata": {},
   "outputs": [
    {
     "data": {
      "application/vnd.jupyter.widget-view+json": {
       "model_id": "0695436851f649118ec0aecad4c4940b",
       "version_major": 2,
       "version_minor": 0
      },
      "text/plain": [
       "HBox(children=(FloatProgress(value=0.0, description='Done?', max=2588.0, style=ProgressStyle(description_width…"
      ]
     },
     "metadata": {},
     "output_type": "display_data"
    },
    {
     "name": "stdout",
     "output_type": "stream",
     "text": [
      "\n"
     ]
    },
    {
     "data": {
      "application/vnd.jupyter.widget-view+json": {
       "model_id": "2732a5d7bf2440bc89e0027e9354df9b",
       "version_major": 2,
       "version_minor": 0
      },
      "text/plain": [
       "HBox(children=(FloatProgress(value=0.0, max=2588.0), HTML(value='')))"
      ]
     },
     "metadata": {},
     "output_type": "display_data"
    },
    {
     "name": "stdout",
     "output_type": "stream",
     "text": [
      "\n"
     ]
    }
   ],
   "source": [
    "age_dist = []\n",
    "\n",
    "pca_transform = PCA(n_components=3).fit(data)\n",
    "\n",
    "for i in tqdm_notebook(range(len(r13)),desc='Done?'):\n",
    "    # temperature\n",
    "    teff = r13['TEFF'][i]\n",
    "    teff_err = r13['TEFF_ERR'][i]\n",
    "    \n",
    "    # photometry \n",
    "    ra = r13['RA'][i]\n",
    "    dec = r13['DEC'][i]\n",
    "    ks = r13['K'][i]\n",
    "    ks_err = r13['K_ERR'][i]\n",
    "    ak = r13['AK_TARG'][i]\n",
    "    \n",
    "    # abundances\n",
    "    mh = r13['M_H'][i]\n",
    "    mh_err = r13['M_H_ERR'][i]\n",
    "    cfe = r13['C_FE'][i]\n",
    "    cfe_err = r13['C_FE_ERR'][i]\n",
    "    nfe = r13['N_FE'][i]\n",
    "    nfe_err = r13['N_FE_ERR'][i]\n",
    "    feh = r13['FE_H'][i]\n",
    "    feh_err = r13['FE_H_ERR'][i]\n",
    "    \n",
    "    # surface gravity\n",
    "    lgg = r13['LOGG'][i]\n",
    "    lgg_err = r13['LOGG_ERR'][i]\n",
    "    \n",
    "    noise_ages = []\n",
    "    new = []\n",
    "    for j in range(750):\n",
    "       \n",
    "        # calculate noisy temperature\n",
    "        teff_new = add_noise(teff,teff_err)\n",
    "        lgteff_new = np.log10(teff_new)\n",
    "    \n",
    "        # Calculate noisy K magnitude\n",
    "        _, _, dist = afunc.LMCdisk_cart(ra,dec)\n",
    "        \n",
    "        ks_new = add_noise(ks,ks_err)\n",
    "            \n",
    "        absK_new = afunc.absmag(ks_new,dist) - ak\n",
    "            \n",
    "        # Calculate noisy Salaris correction\n",
    "        \n",
    "        x_C_new = sol_xm[0]*10**(add_noise(cfe,cfe_err)+\n",
    "                                 add_noise(feh,feh_err)-add_noise(mh,mh_err))\n",
    "        x_N_new = sol_xm[1]*10**(add_noise(nfe,nfe_err)+\n",
    "                                 add_noise(feh,feh_err)-add_noise(mh,mh_err))\n",
    "        \n",
    "        ffac_new = (x_C_new+x_N_new)/sum(sol_xm[0:2])\n",
    "        \n",
    "        mh_new = add_noise(mh,mh_err)\n",
    "        \n",
    "        # Calculate noisy surface gravity\n",
    "        lgg_new = add_noise(lgg,lgg_err)\n",
    "            \n",
    "        # calculate noisy age\n",
    "        new.append(np.array([lgteff_new,absK_new,afunc.sal(mh_new,ffac_new),lgg_new]))\n",
    "        \n",
    "    zs = pca_transform.transform(np.asarray(np.squeeze(new)))\n",
    "\n",
    "    for l in range(len(zs)):\n",
    "        noise_ages.append(find_ages(zs[l][0],zs[l][1],zs[l][2]))\n",
    "    \n",
    "    age_dist.append(noise_ages)\n",
    "\n",
    "parages = [] \n",
    "devs = []\n",
    "for k in tqdm_notebook(range(len(age_dist))):\n",
    "    devs.append(afunc.mad(age_dist[k]))\n",
    "    parages.append(np.median(age_dist[k]))"
   ]
  },
  {
   "cell_type": "code",
   "execution_count": 32,
   "metadata": {},
   "outputs": [],
   "source": [
    "# print(np.where(parages<=np.log10(0.5*10**9)))\n",
    "# print(np.log10(0.5*10**9))\n",
    "# plt.hist(parages,range=(8,12))"
   ]
  },
  {
   "cell_type": "code",
   "execution_count": 33,
   "metadata": {},
   "outputs": [
    {
     "data": {
      "text/plain": [
       "Text(0, 0.5, 'Bayesian')"
      ]
     },
     "execution_count": 33,
     "metadata": {},
     "output_type": "execute_result"
    },
    {
     "data": {
      "image/png": "[encoded data removed]",
      "text/plain": [
       "<Figure size 864x720 with 2 Axes>"
      ]
     },
     "metadata": {
      "needs_background": "light"
     },
     "output_type": "display_data"
    }
   ],
   "source": [
    "plt.figure(figsize=[12,10])\n",
    "plt.scatter(10**np.asarray(parages)[r13_ind],10**pdfout['P_MEAN'][pdfout_ind],c=r13['LOGG'][r13_ind],\n",
    "                marker='+',cmap='nipy_spectral')\n",
    "plt.colorbar()\n",
    "plt.xscale('log')\n",
    "plt.yscale('log')\n",
    "plt.plot(10**np.array([7,8,9,10,11,12,13]),10**np.array([7,8,9,10,11,12,13]),c='k')\n",
    "plt.ylim(10**7,10**11)\n",
    "plt.xlim(10**7,10**13)\n",
    "\n",
    "plt.xlabel(r'Polynomial Interpolation')\n",
    "plt.ylabel(r'Bayesian')"
   ]
  },
  {
   "cell_type": "code",
   "execution_count": 32,
   "metadata": {},
   "outputs": [],
   "source": [
    "# plt.hist(10**pdfout['P_MEAN'][pdfout_ind])"
   ]
  },
  {
   "cell_type": "code",
   "execution_count": 33,
   "metadata": {},
   "outputs": [],
   "source": [
    "# plt.hist(10**np.asarray(parages)[r13_ind])"
   ]
  },
  {
   "cell_type": "code",
   "execution_count": 34,
   "metadata": {},
   "outputs": [],
   "source": [
    "# plt.hist(age_dist[100])"
   ]
  },
  {
   "cell_type": "code",
   "execution_count": 35,
   "metadata": {},
   "outputs": [],
   "source": [
    "cat = Table()\n",
    "col_id = Column(np.asarray(r13['APOGEE_ID']),name='APOGEE_ID')\n",
    "col_age = Column(np.asarray(parages),name='AGE')\n",
    "col_dev = Column(np.asarray(devs),name='AGE_ERR')\n",
    "col_dist = Column(np.asarray(age_dist),name='DIST')\n",
    "\n",
    "cat.add_column(col_id)\n",
    "cat.add_column(col_age)\n",
    "cat.add_column(col_dev)\n",
    "cat.add_column(col_dist)\n",
    "\n",
    "# cat.write('TEST_pca_ols_ages.fits',format='fits')#,overwrite=True)\n",
    "# cat.write('TEST_pca_ols_ll.fits',format='fits',overwrite=True)"
   ]
  },
  {
   "cell_type": "code",
   "execution_count": 36,
   "metadata": {},
   "outputs": [],
   "source": [
    "# ### Find all models\n",
    "\n",
    "# #transform data to new basis\n",
    "# # new_data = PCA(n_components=3).fit(data).transform(data)\n",
    "\n",
    "# #create new variables\n",
    "\n",
    "# # linear terms\n",
    "# x1 = parsec['logTe'] #new_data[:,0]\n",
    "# x2 = parsec['Ksmag'] #new_data[:,1]\n",
    "# x3 = parsec['MH'] #new_data[:,2]\n",
    "# x4 = parsec['logg']\n",
    "\n",
    "# # linear int\n",
    "# x12 = np.multiply(x1,x2)\n",
    "# x13 = np.multiply(x1,x3)\n",
    "# x14 = np.multiply(x1,x4)\n",
    "\n",
    "# x23 = np.multiply(x2,x3)\n",
    "# x24 = np.multiply(x2,x4)\n",
    "\n",
    "# x34 = np.multiply(x3,x4)\n",
    "\n",
    "\n",
    "# # squares\n",
    "# x1sq = x1**2\n",
    "# x2sq = x2**2\n",
    "# x3sq = x3**2\n",
    "# x4sq = x4**2\n",
    "\n",
    "# # cubes\n",
    "# # x1cu = x1**3\n",
    "# # x2cu = x2**3\n",
    "# # x3cu = x3**3\n",
    "\n",
    "\n",
    "# #find all possible models\n",
    "# models = []\n",
    "# models_str = []\n",
    "\n",
    "# all_var_str = ['x1','x2','x3','x4','x12','x13','x23','x24','x34','x1sq','x2sq','x3sq','x4sq']\n",
    "# all_var = [x1,x2,x3,x4,x12,x13,x23,x24,x34,x1sq,x2sq,x3sq,x4sq]\n",
    "\n",
    "# for i in range(1,len(all_var)+1):\n",
    "#     for subset in it.combinations(all_var,i):\n",
    "#         models.append(subset)\n",
    "#     for subset_str in it.combinations(all_var_str,i):\n",
    "#         models_str.append(np.array(subset_str))\n",
    "        \n",
    "# models = np.array(models)\n",
    "# models_str = np.array(models_str)\n",
    "\n",
    "# ### Fit All Models\n",
    "\n",
    "# import statsmodels.api as sm \n",
    "\n",
    "# all_params = []\n",
    "# summaries = []\n",
    "# max_resid = []\n",
    "# mads = []\n",
    "# resids = []\n",
    "# predict = []\n",
    "# ll = []\n",
    "# for i in tqdm_notebook(range(len(models)),desc='Done?'):\n",
    "#     pmodl = np.array(models[i]).T\n",
    "#     pmodl = sm.add_constant(pmodl)\n",
    "#     model = sm.OLS(parsec['logAge'],pmodl).fit()\n",
    "#     summaries.append(model.summary())\n",
    "#     predictions = model.predict(pmodl)\n",
    "#     predict.append(predictions)\n",
    "#     residual = predictions - parsec['logAge']\n",
    "#     resids.append(residual)\n",
    "#     all_params.append(np.asarray(model.params))\n",
    "#     max_resid.append(np.max(np.absolute(residual)))\n",
    "#     mads.append(afunc.mad(residual))\n",
    "#     ll.append(model.llf)"
   ]
  },
  {
   "cell_type": "code",
   "execution_count": 37,
   "metadata": {},
   "outputs": [],
   "source": [
    "# print(summaries[np.asarray(ll).argmax()])\n",
    "# print(all_params[np.asarray(ll).argmax()])\n",
    "# print(models_str[np.asarray(ll).argmax()])\n"
   ]
  },
  {
   "cell_type": "code",
   "execution_count": 38,
   "metadata": {},
   "outputs": [],
   "source": [
    "# print(summaries[np.asarray(mads).argmin()])\n",
    "# print(all_params[np.asarray(mads).argmin()])\n",
    "# print(models_str[np.asarray(mads).argmin()])"
   ]
  },
  {
   "cell_type": "code",
   "execution_count": 39,
   "metadata": {},
   "outputs": [],
   "source": [
    "# def find_ages(z1,z2,z3,z4):\n",
    "# #     p = [9.77943559e+02,-5.25226935e+02,1.24426878e+01,-1.71063906e+01,-3.33360237e+00,4.80431454e+00,\n",
    "# #          -6.62127176e-02,3.89523313e-01,-8.75802774e-02,7.16174805e+01,-3.29702782e-02,1.69804627e-01,\n",
    "# #          -5.39563301e-01]\n",
    "# #     ages = (p[0]+p[1]*z1+p[2]*z2+p[3]*z3+p[4]*np.multiply(z1,z2)+p[5]*np.multiply(z1,z3)+p[6]*np.multiply(z2,z3)+\n",
    "# #             p[7]*np.multiply(z2,z4)+p[8]*np.multiply(z3,z4)+p[9]*(z1**2)+p[10]*(z2**2)+p[11]*(z3**2)+\n",
    "# #             p[12]*(z4**2))\n",
    "\n",
    "# #     p = [9.80851387e+02,-5.24981733e+02,1.26388036e+01,-1.48527724e+01,-3.38508869e+00,4.09636862e+00,\n",
    "# #          -8.83269488e-02,3.70451942e-01,7.13126367e+01,-3.11197530e-02,1.35549807e-01,-5.05326057e-01]\n",
    "# #     ages = (p[0]+p[1]*z1+p[2]*z2+p[3]*z3+p[4]*np.multiply(z1,z2)+p[5]*np.multiply(z1,z3)+p[6]*np.multiply(z2,z3)+\n",
    "# #             p[7]*np.multiply(z2,z4)+p[8]*(z1**2)+p[9]*(z2**2)+p[10]*(z3**2)+p[11]*(z4**2))\n",
    "\n",
    "#     p = [1.62773106e+02,-7.74432139e+01,5.79432496e+00,-8.21554113e-01,-6.31502225e+00,-8.53547492e-01,\n",
    "#          3.03422107e-01,-1.21805077e-02,-4.28300766e-01,-1.54961212e-03,1.08410088e+01,1.01740575e-01,\n",
    "#          7.55430356e-02,4.96225871e-01]\n",
    "#     ages = (p[0]+p[1]*z1+p[2]*z2+p[3]*z3+p[4]*z4+p[5]*np.multiply(z1,z2)+p[6]*np.multiply(z1,z3)+\n",
    "#             p[7]*np.multiply(z2,z3)+p[8]*np.multiply(z2,z4)+p[9]*np.multiply(z3,z4)+p[10]*(z1**2)+p[11]*(z2**2)+\n",
    "#             p[12]*(z3**3)+p[13]*(z4**2))\n",
    "    \n",
    "# #     p = [1.17993328e+02,-5.31336187e+01,5.45824048e+00,2.99452735e-01,-6.47520602e+00,-7.47386878e-01,\n",
    "# #          -8.83982229e-03,-4.45546306e-01,7.56108649e+00,1.04148096e-01,7.17546427e-02,5.20605161e-01]\n",
    "# #     ages = (p[0]+p[1]*z1+p[2]*z2+p[3]*z3+p[4]*z4+p[5]*np.multiply(z1,z2)+p[6]*np.multiply(z1,z3)+\n",
    "# #             p[7]*np.multiply(z2,z3)+p[8]*np.multiply(z2,z4)+p[8]*(z1**2)+p[9]*(z2**2)+p[10]*(z3**2)+p[11]*(z4**2))\n",
    "#     return ages"
   ]
  },
  {
   "cell_type": "code",
   "execution_count": 40,
   "metadata": {},
   "outputs": [],
   "source": [
    "# len(all_params[np.asarray(ll).argmax()])\n",
    "# len(models_str[np.asarray(ll).argmax()])"
   ]
  },
  {
   "cell_type": "code",
   "execution_count": 41,
   "metadata": {},
   "outputs": [],
   "source": [
    "# age_dist = []\n",
    "\n",
    "# pca_transform = PCA(n_components=3).fit(data)\n",
    "\n",
    "# for i in tqdm_notebook(range(len(r13)),desc='Done?'):\n",
    "#     # temperature\n",
    "#     teff = r13['TEFF'][i]\n",
    "#     teff_err = r13['TEFF_ERR'][i]\n",
    "    \n",
    "#     # photometry \n",
    "#     ra = r13['RA'][i]\n",
    "#     dec = r13['DEC'][i]\n",
    "#     ks = r13['K'][i]\n",
    "#     ks_err = r13['K_ERR'][i]\n",
    "#     ak = r13['AK_TARG'][i]\n",
    "    \n",
    "#     # abundances\n",
    "#     mh = r13['M_H'][i]\n",
    "#     mh_err = r13['M_H_ERR'][i]\n",
    "#     cfe = r13['C_FE'][i]\n",
    "#     cfe_err = r13['C_FE_ERR'][i]\n",
    "#     nfe = r13['N_FE'][i]\n",
    "#     nfe_err = r13['N_FE_ERR'][i]\n",
    "#     feh = r13['FE_H'][i]\n",
    "#     feh_err = r13['FE_H_ERR'][i]\n",
    "    \n",
    "#     # surface gravity\n",
    "#     lgg = r13['LOGG'][i]\n",
    "#     lgg_err = r13['LOGG_ERR'][i]\n",
    "    \n",
    "#     noise_ages = []\n",
    "#     new = []\n",
    "#     for j in range(100):\n",
    "       \n",
    "#         # calculate noisy temperature\n",
    "#         teff_new = add_noise(teff,teff_err) \n",
    "#         lgteff_new = np.log10(teff_new)\n",
    "    \n",
    "#         # Calculate noisy K magnitude\n",
    "#         _, _, dist = afunc.LMCdisk_cart(ra,dec)\n",
    "        \n",
    "#         ks_new = add_noise(ks,ks_err)\n",
    "            \n",
    "#         absK_new = afunc.absmag(ks_new,dist) - ak\n",
    "            \n",
    "#         # Calculate noisy Salaris correction\n",
    "        \n",
    "#         x_C_new = sol_xm[0]*10**(add_noise(cfe,cfe_err)+\n",
    "#                                  add_noise(feh,feh_err)-add_noise(mh,mh_err))\n",
    "#         x_N_new = sol_xm[1]*10**(add_noise(nfe,nfe_err)+\n",
    "#                                  add_noise(feh,feh_err)-add_noise(mh,mh_err))\n",
    "        \n",
    "#         ffac_new = (x_C_new+x_N_new)/sum(sol_xm[0:2])\n",
    "        \n",
    "#         mh_new = add_noise(mh,mh_err)\n",
    "        \n",
    "#         # Calculate noisy surface gravity\n",
    "#         lgg_new = add_noise(lgg,lgg_err)\n",
    "            \n",
    "#         # calculate noisy age\n",
    "# #         new.append(np.array([lgteff_new,absK_new,afunc.sal(mh_new,ffac_new),lgg_new]))\n",
    "        \n",
    "# #     zs = pca_transform.transform(np.asarray(np.squeeze(new)))\n",
    "\n",
    "# #     for l in range(len(zs)):\n",
    "#         noise_ages.append(find_ages(lgteff_new,absK_new,afunc.sal(mh_new,ffac_new),lgg_new))\n",
    "    \n",
    "#     age_dist.append(noise_ages)\n",
    "\n",
    "# parages = [] \n",
    "# devs = []\n",
    "# for k in tqdm_notebook(range(len(age_dist))):\n",
    "#     devs.append(afunc.mad(age_dist[k]))\n",
    "#     parages.append(np.median(age_dist[k]))"
   ]
  },
  {
   "cell_type": "code",
   "execution_count": 42,
   "metadata": {},
   "outputs": [],
   "source": [
    "# plt.hist(parages)"
   ]
  },
  {
   "cell_type": "code",
   "execution_count": 43,
   "metadata": {},
   "outputs": [],
   "source": [
    "# plt.figure(figsize=[12,10])\n",
    "# plt.scatter(10**np.asarray(parages)[r13_ind],10**pdfout['P_MEAN'][pdfout_ind],c=r13['LOGG'][r13_ind],\n",
    "#                 marker='+',cmap='nipy_spectral')\n",
    "# plt.colorbar()\n",
    "# plt.xscale('log')\n",
    "# plt.yscale('log')\n",
    "# plt.plot(10**np.array([7,8,9,10,11,12,13]),10**np.array([7,8,9,10,11,12,13]),c='k')\n",
    "# plt.ylim(10**7,10**11)\n",
    "# plt.xlim(10**7,10**13)"
   ]
  },
  {
   "cell_type": "code",
   "execution_count": null,
   "metadata": {},
   "outputs": [],
   "source": []
  }
 ],
 "metadata": {
  "kernelspec": {
   "display_name": "Python 3",
   "language": "python",
   "name": "python3"
  },
  "language_info": {
   "codemirror_mode": {
    "name": "ipython",
    "version": 3
   },
   "file_extension": ".py",
   "mimetype": "text/x-python",
   "name": "python",
   "nbconvert_exporter": "python",
   "pygments_lexer": "ipython3",
   "version": "3.8.5"
  }
 },
 "nbformat": 4,
 "nbformat_minor": 4
}
